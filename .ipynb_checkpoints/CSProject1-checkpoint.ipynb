{
 "cells": [
  {
   "cell_type": "code",
   "execution_count": 1,
   "id": "f56727f7",
   "metadata": {},
   "outputs": [],
   "source": [
    "# Dependencies\n",
    "import pandas as pd\n",
    "import numpy as np\n",
    "import matplotlib.pyplot as plt\n",
    " \n",
    "#reading the CSV\n",
    "movie_data=pd.read_csv(\"movieData.csv\")\n",
    "#movie_data=movie_data.dropna(axis='Runtime (min)')\n",
    "movie_data=movie_data.dropna(subset=['Country','Genre'])\n"
   ]
  },
  {
   "cell_type": "code",
   "execution_count": 2,
   "id": "a3e3dd20",
   "metadata": {},
   "outputs": [
    {
     "data": {
      "text/plain": [
       "[0         Biography, Crime, Drama\n",
       " 1        Action, Biography, Drama\n",
       " 2          Documentary, Biography\n",
       " 3           Drama, Musical, Sport\n",
       " 4                           Drama\n",
       "                   ...            \n",
       " 9342             Biography, Drama\n",
       " 9352                  Documentary\n",
       " 9366           Documentary, Short\n",
       " 9370    Adventure, Comedy, Family\n",
       " 9437            Adventure, Family\n",
       " Name: Genre, Length: 4362, dtype: object]"
      ]
     },
     "execution_count": 2,
     "metadata": {},
     "output_type": "execute_result"
    }
   ],
   "source": [
    "genres=[movie_data['Genre']]\n",
    "genres.sort()\n",
    "genres\n"
   ]
  },
  {
   "cell_type": "code",
   "execution_count": 3,
   "id": "72ca6d82",
   "metadata": {},
   "outputs": [],
   "source": [
    "movie_data[['Genre1','Genre2','Genre3','Genre4','Genre5','Genre6','Genre7']]= genres[0].str.split(',',expand=True)\n",
    "movie_data[['Country1','Country2','Country3','Country4','Country5','Country6','Country7','Country8','Country9','Country10','Country11','Country12','Country13','Country14','Country15']]=movie_data['Country'].str.split(',',expand=True)\n",
    "movie_data['Rotten Tomatoes']=movie_data['Rotten Tomatoes'].str.rstrip(\"%\")\n",
    "movie_data['Rotten Tomatoes']=movie_data['Rotten Tomatoes'].str.replace('/100',\"\")\n",
    "movie_data['Imdb']= movie_data['Imdb'].astype(float)\n",
    "movie_data['Imdb']=movie_data['Imdb']*10\n",
    "movie_data[['Runtime', 'Min']] = movie_data['Runtime'].str.split(' ', expand=True)\n",
    "movie_datadf= pd.DataFrame({ \n",
    "                           \"Title\": movie_data['Title'],\n",
    "                           \"Year\":movie_data['Year'].astype(int),\n",
    "                           \"Netflix\":movie_data['Netflix'],\n",
    "                           \"Hulu\":movie_data['Hulu'],\n",
    "                           'Prime Video':movie_data['Prime Video'],\n",
    "                           'Disney+':movie_data['Disney+'],\n",
    "                           'Rating':movie_data['Rating'],\n",
    "                           'Genre1':movie_data['Genre1'],\n",
    "                           'Genre2':movie_data['Genre2'],\n",
    "                           'Genre3':movie_data['Genre3'],\n",
    "                            'Metascore':movie_data['Metascore'].astype(float),\n",
    "                           'Imdb':movie_data['Imdb'],\n",
    "                           'Rotten Tomatoes':movie_data['Rotten Tomatoes'].astype(float),\n",
    "                           'Runtime':movie_data['Runtime'].astype(float),\n",
    "                           'Country1':movie_data['Country1'],\n",
    "                           'Country2':movie_data['Country2'],\n",
    "                           'Country3':movie_data['Country3'],\n",
    "                           'Country4':movie_data['Country4'],\n",
    "                           'Country5':movie_data['Country5'],\n",
    "                           \n",
    "                            })\n",
    "\n"
   ]
  },
  {
   "cell_type": "code",
   "execution_count": 4,
   "id": "675a4fd1",
   "metadata": {},
   "outputs": [
    {
     "name": "stderr",
     "output_type": "stream",
     "text": [
      "C:\\Users\\CONNOR\\AppData\\Local\\Temp\\ipykernel_24408\\1071717489.py:5: SettingWithCopyWarning: \n",
      "A value is trying to be set on a copy of a slice from a DataFrame.\n",
      "Try using .loc[row_indexer,col_indexer] = value instead\n",
      "\n",
      "See the caveats in the documentation: https://pandas.pydata.org/pandas-docs/stable/user_guide/indexing.html#returning-a-view-versus-a-copy\n",
      "  runtime['Runtime summary']=pd.cut(runtime['Runtime'],size_bins, labels=group_names, right=False)\n"
     ]
    },
    {
     "data": {
      "text/html": [
       "<div>\n",
       "<style scoped>\n",
       "    .dataframe tbody tr th:only-of-type {\n",
       "        vertical-align: middle;\n",
       "    }\n",
       "\n",
       "    .dataframe tbody tr th {\n",
       "        vertical-align: top;\n",
       "    }\n",
       "\n",
       "    .dataframe thead th {\n",
       "        text-align: right;\n",
       "    }\n",
       "</style>\n",
       "<table border=\"1\" class=\"dataframe\">\n",
       "  <thead>\n",
       "    <tr style=\"text-align: right;\">\n",
       "      <th></th>\n",
       "      <th>Title</th>\n",
       "      <th>Year</th>\n",
       "      <th>Netflix</th>\n",
       "      <th>Hulu</th>\n",
       "      <th>Prime Video</th>\n",
       "      <th>Disney+</th>\n",
       "      <th>Rating</th>\n",
       "      <th>Genre1</th>\n",
       "      <th>Genre2</th>\n",
       "      <th>Genre3</th>\n",
       "      <th>Metascore</th>\n",
       "      <th>Imdb</th>\n",
       "      <th>Rotten Tomatoes</th>\n",
       "      <th>Runtime</th>\n",
       "      <th>Country1</th>\n",
       "      <th>Country2</th>\n",
       "      <th>Country3</th>\n",
       "      <th>Country4</th>\n",
       "      <th>Country5</th>\n",
       "    </tr>\n",
       "  </thead>\n",
       "  <tbody>\n",
       "    <tr>\n",
       "      <th>3888</th>\n",
       "      <td>1900</td>\n",
       "      <td>1976</td>\n",
       "      <td>0</td>\n",
       "      <td>1</td>\n",
       "      <td>1</td>\n",
       "      <td>0</td>\n",
       "      <td>Unrated</td>\n",
       "      <td>Drama</td>\n",
       "      <td>History</td>\n",
       "      <td>None</td>\n",
       "      <td>70.0</td>\n",
       "      <td>77.0</td>\n",
       "      <td>55.0</td>\n",
       "      <td>317.0</td>\n",
       "      <td>Italy</td>\n",
       "      <td>France</td>\n",
       "      <td>West Germany</td>\n",
       "      <td>None</td>\n",
       "      <td>None</td>\n",
       "    </tr>\n",
       "  </tbody>\n",
       "</table>\n",
       "</div>"
      ],
      "text/plain": [
       "     Title  Year  Netflix  Hulu  Prime Video  Disney+   Rating Genre1  \\\n",
       "3888  1900  1976        0     1            1        0  Unrated  Drama   \n",
       "\n",
       "        Genre2 Genre3  Metascore  Imdb  Rotten Tomatoes  Runtime Country1  \\\n",
       "3888   History   None       70.0  77.0             55.0    317.0    Italy   \n",
       "\n",
       "     Country2       Country3 Country4 Country5  \n",
       "3888   France   West Germany     None     None  "
      ]
     },
     "execution_count": 4,
     "metadata": {},
     "output_type": "execute_result"
    }
   ],
   "source": [
    "size_bins = [0, 60, 120, 180, 240]\n",
    "group_names = [\"under 1 hour\", \"1 to 2 hour\", \"2 to 3 hour\",\"3 to 4 hour\"]\n",
    "\n",
    "runtime= movie_datadf[['Runtime','Metascore','Imdb','Rotten Tomatoes']]\n",
    "runtime['Runtime summary']=pd.cut(runtime['Runtime'],size_bins, labels=group_names, right=False)\n",
    "runtime = runtime.groupby([\"Runtime summary\"]).mean()[[\"Metascore\", \"Imdb\", \"Rotten Tomatoes\"]]\n",
    "runtimeAvg=runtime.fillna(0)\n",
    "runtimeAvg\n",
    "movie_datadf[movie_datadf['Runtime']>300]\n"
   ]
  },
  {
   "cell_type": "code",
   "execution_count": 5,
   "id": "ac9bd0b4",
   "metadata": {},
   "outputs": [
    {
     "data": {
      "image/png": "[encoded data removed]",
      "text/plain": [
       "<Figure size 1080x432 with 1 Axes>"
      ]
     },
     "metadata": {},
     "output_type": "display_data"
    }
   ],
   "source": [
    "# Import the style from Matplotlib.\n",
    "from matplotlib import style\n",
    "# Use the graph style fivethirtyeight.\n",
    "style.use('fivethirtyeight')\n",
    "ax=runtimeAvg.plot(figsize=(15,6),kind=\"bar\")\n",
    "# Add a title\n",
    "ax.set_title(\"Average score by runtime\")\n",
    "#  Add a x- and y-axis label.\n",
    "ax.set_xlabel(\"Runtime\")\n",
    "ax.set_ylabel(\"Average scores\")\n",
    "\n",
    "plt. legend(loc='upper center', ncol=4)\n",
    "#plt.savefig(\"analysis/Challenge_fare_summary.png\")\n",
    "plt.show()\n",
    "\n"
   ]
  },
  {
   "cell_type": "code",
   "execution_count": null,
   "id": "6c8b8754",
   "metadata": {},
   "outputs": [],
   "source": [
    "\n"
   ]
  },
  {
   "cell_type": "code",
   "execution_count": null,
   "id": "8b092c6c",
   "metadata": {},
   "outputs": [],
   "source": []
  },
  {
   "cell_type": "code",
   "execution_count": null,
   "id": "ee79fad1",
   "metadata": {},
   "outputs": [],
   "source": []
  },
  {
   "cell_type": "code",
   "execution_count": null,
   "id": "64644351",
   "metadata": {},
   "outputs": [],
   "source": []
  },
  {
   "cell_type": "code",
   "execution_count": null,
   "id": "54f20b9b",
   "metadata": {},
   "outputs": [],
   "source": []
  },
  {
   "cell_type": "code",
   "execution_count": null,
   "id": "674ef5c4",
   "metadata": {},
   "outputs": [],
   "source": []
  },
  {
   "cell_type": "code",
   "execution_count": null,
   "id": "67fa1b8a",
   "metadata": {},
   "outputs": [],
   "source": []
  }
 ],
 "metadata": {
  "kernelspec": {
   "display_name": "Python 3 (ipykernel)",
   "language": "python",
   "name": "python3"
  },
  "language_info": {
   "codemirror_mode": {
    "name": "ipython",
    "version": 3
   },
   "file_extension": ".py",
   "mimetype": "text/x-python",
   "name": "python",
   "nbconvert_exporter": "python",
   "pygments_lexer": "ipython3",
   "version": "3.9.12"
  }
 },
 "nbformat": 4,
 "nbformat_minor": 5
}
