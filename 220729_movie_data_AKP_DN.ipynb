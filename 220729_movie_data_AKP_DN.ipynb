{
 "cells": [
  {
   "cell_type": "code",
   "execution_count": 1,
   "id": "0606e4c7",
   "metadata": {},
   "outputs": [],
   "source": [
    "# Dependencies\n",
    "import pandas as pd"
   ]
  },
  {
   "cell_type": "code",
   "execution_count": 2,
   "id": "2aa64862",
   "metadata": {},
   "outputs": [],
   "source": [
    "# Name of the CSV file\n",
    "file = 'movieData.csv'"
   ]
  },
  {
   "cell_type": "code",
   "execution_count": 3,
   "id": "81f30a5b",
   "metadata": {},
   "outputs": [
    {
     "data": {
      "text/html": [
       "<div>\n",
       "<style scoped>\n",
       "    .dataframe tbody tr th:only-of-type {\n",
       "        vertical-align: middle;\n",
       "    }\n",
       "\n",
       "    .dataframe tbody tr th {\n",
       "        vertical-align: top;\n",
       "    }\n",
       "\n",
       "    .dataframe thead th {\n",
       "        text-align: right;\n",
       "    }\n",
       "</style>\n",
       "<table border=\"1\" class=\"dataframe\">\n",
       "  <thead>\n",
       "    <tr style=\"text-align: right;\">\n",
       "      <th></th>\n",
       "      <th>Unnamed: 0</th>\n",
       "      <th>ID</th>\n",
       "      <th>Title</th>\n",
       "      <th>Year</th>\n",
       "      <th>Age</th>\n",
       "      <th>Netflix</th>\n",
       "      <th>Hulu</th>\n",
       "      <th>Prime Video</th>\n",
       "      <th>Disney+</th>\n",
       "      <th>Type</th>\n",
       "      <th>Rating</th>\n",
       "      <th>Runtime (min)</th>\n",
       "      <th>Genre</th>\n",
       "      <th>Metascore</th>\n",
       "      <th>Imdb</th>\n",
       "      <th>Rotten Tomatoes</th>\n",
       "      <th>Country</th>\n",
       "      <th>Runtime</th>\n",
       "    </tr>\n",
       "  </thead>\n",
       "  <tbody>\n",
       "    <tr>\n",
       "      <th>0</th>\n",
       "      <td>0</td>\n",
       "      <td>1</td>\n",
       "      <td>The Irishman</td>\n",
       "      <td>2019</td>\n",
       "      <td>18+</td>\n",
       "      <td>1</td>\n",
       "      <td>0</td>\n",
       "      <td>0</td>\n",
       "      <td>0</td>\n",
       "      <td>0</td>\n",
       "      <td>R</td>\n",
       "      <td>NaN</td>\n",
       "      <td>Biography, Crime, Drama</td>\n",
       "      <td>94.0</td>\n",
       "      <td>7.8</td>\n",
       "      <td>95%</td>\n",
       "      <td>United States</td>\n",
       "      <td>209 min</td>\n",
       "    </tr>\n",
       "    <tr>\n",
       "      <th>1</th>\n",
       "      <td>1</td>\n",
       "      <td>2</td>\n",
       "      <td>Dangal</td>\n",
       "      <td>2016</td>\n",
       "      <td>7+</td>\n",
       "      <td>1</td>\n",
       "      <td>0</td>\n",
       "      <td>0</td>\n",
       "      <td>0</td>\n",
       "      <td>0</td>\n",
       "      <td>Not Rated</td>\n",
       "      <td>NaN</td>\n",
       "      <td>Action, Biography, Drama</td>\n",
       "      <td>NaN</td>\n",
       "      <td>8.3</td>\n",
       "      <td>88%</td>\n",
       "      <td>India, United States</td>\n",
       "      <td>161 min</td>\n",
       "    </tr>\n",
       "    <tr>\n",
       "      <th>2</th>\n",
       "      <td>2</td>\n",
       "      <td>3</td>\n",
       "      <td>David Attenborough: A Life on Our Planet</td>\n",
       "      <td>2020</td>\n",
       "      <td>7+</td>\n",
       "      <td>1</td>\n",
       "      <td>0</td>\n",
       "      <td>0</td>\n",
       "      <td>0</td>\n",
       "      <td>0</td>\n",
       "      <td>PG</td>\n",
       "      <td>NaN</td>\n",
       "      <td>Documentary, Biography</td>\n",
       "      <td>72.0</td>\n",
       "      <td>8.9</td>\n",
       "      <td>96%</td>\n",
       "      <td>United Kingdom</td>\n",
       "      <td>83 min</td>\n",
       "    </tr>\n",
       "    <tr>\n",
       "      <th>3</th>\n",
       "      <td>3</td>\n",
       "      <td>4</td>\n",
       "      <td>Lagaan: Once Upon a Time in India</td>\n",
       "      <td>2001</td>\n",
       "      <td>7+</td>\n",
       "      <td>1</td>\n",
       "      <td>0</td>\n",
       "      <td>0</td>\n",
       "      <td>0</td>\n",
       "      <td>0</td>\n",
       "      <td>PG</td>\n",
       "      <td>NaN</td>\n",
       "      <td>Drama, Musical, Sport</td>\n",
       "      <td>84.0</td>\n",
       "      <td>8.1</td>\n",
       "      <td>95%</td>\n",
       "      <td>India, United States, United Kingdom</td>\n",
       "      <td>224 min</td>\n",
       "    </tr>\n",
       "    <tr>\n",
       "      <th>4</th>\n",
       "      <td>4</td>\n",
       "      <td>5</td>\n",
       "      <td>Roma</td>\n",
       "      <td>2018</td>\n",
       "      <td>18+</td>\n",
       "      <td>1</td>\n",
       "      <td>0</td>\n",
       "      <td>0</td>\n",
       "      <td>0</td>\n",
       "      <td>0</td>\n",
       "      <td>R</td>\n",
       "      <td>NaN</td>\n",
       "      <td>Drama</td>\n",
       "      <td>96.0</td>\n",
       "      <td>7.7</td>\n",
       "      <td>96%</td>\n",
       "      <td>Mexico, United States</td>\n",
       "      <td>135 min</td>\n",
       "    </tr>\n",
       "  </tbody>\n",
       "</table>\n",
       "</div>"
      ],
      "text/plain": [
       "   Unnamed: 0  ID                                     Title  Year  Age  \\\n",
       "0           0   1                              The Irishman  2019  18+   \n",
       "1           1   2                                    Dangal  2016   7+   \n",
       "2           2   3  David Attenborough: A Life on Our Planet  2020   7+   \n",
       "3           3   4         Lagaan: Once Upon a Time in India  2001   7+   \n",
       "4           4   5                                      Roma  2018  18+   \n",
       "\n",
       "   Netflix  Hulu  Prime Video  Disney+  Type     Rating  Runtime (min)  \\\n",
       "0        1     0            0        0     0          R            NaN   \n",
       "1        1     0            0        0     0  Not Rated            NaN   \n",
       "2        1     0            0        0     0         PG            NaN   \n",
       "3        1     0            0        0     0         PG            NaN   \n",
       "4        1     0            0        0     0          R            NaN   \n",
       "\n",
       "                      Genre  Metascore  Imdb Rotten Tomatoes  \\\n",
       "0   Biography, Crime, Drama       94.0   7.8             95%   \n",
       "1  Action, Biography, Drama        NaN   8.3             88%   \n",
       "2    Documentary, Biography       72.0   8.9             96%   \n",
       "3     Drama, Musical, Sport       84.0   8.1             95%   \n",
       "4                     Drama       96.0   7.7             96%   \n",
       "\n",
       "                                Country  Runtime  \n",
       "0                         United States  209 min  \n",
       "1                  India, United States  161 min  \n",
       "2                        United Kingdom   83 min  \n",
       "3  India, United States, United Kingdom  224 min  \n",
       "4                 Mexico, United States  135 min  "
      ]
     },
     "execution_count": 3,
     "metadata": {},
     "output_type": "execute_result"
    }
   ],
   "source": [
    "# The correct encoding must be used to read the CSV in pandas\n",
    "df = pd.read_csv(file)\n",
    "df.head()"
   ]
  },
  {
   "cell_type": "code",
   "execution_count": 4,
   "id": "35b25b52",
   "metadata": {},
   "outputs": [],
   "source": [
    "# Dependencies and Setup\n",
    "import matplotlib.pyplot as plt\n",
    "import pandas as pd\n",
    "import numpy as np"
   ]
  },
  {
   "cell_type": "code",
   "execution_count": 5,
   "id": "eb0fc644",
   "metadata": {
    "scrolled": true
   },
   "outputs": [
    {
     "data": {
      "text/plain": [
       "Unnamed: 0           int64\n",
       "ID                   int64\n",
       "Title               object\n",
       "Year                 int64\n",
       "Age                 object\n",
       "Netflix              int64\n",
       "Hulu                 int64\n",
       "Prime Video          int64\n",
       "Disney+              int64\n",
       "Type                 int64\n",
       "Rating              object\n",
       "Runtime (min)      float64\n",
       "Genre               object\n",
       "Metascore          float64\n",
       "Imdb               float64\n",
       "Rotten Tomatoes     object\n",
       "Country             object\n",
       "Runtime             object\n",
       "dtype: object"
      ]
     },
     "execution_count": 5,
     "metadata": {},
     "output_type": "execute_result"
    }
   ],
   "source": [
    "df.dtypes"
   ]
  },
  {
   "cell_type": "code",
   "execution_count": 6,
   "id": "2f15ffb8",
   "metadata": {
    "scrolled": true
   },
   "outputs": [
    {
     "data": {
      "text/plain": [
       "0    209 \n",
       "1    161 \n",
       "2     83 \n",
       "3    224 \n",
       "4    135 \n",
       "Name: Runtime, dtype: object"
      ]
     },
     "execution_count": 6,
     "metadata": {},
     "output_type": "execute_result"
    }
   ],
   "source": [
    "# convert run time to float by removing min and then converting number object into float\n",
    "\n",
    "# remove min from cell\n",
    "df['Runtime'] = df['Runtime'].str.replace(\"min\", \"\")\n",
    "df['Runtime'].head()"
   ]
  },
  {
   "cell_type": "code",
   "execution_count": 7,
   "id": "74170e4f",
   "metadata": {},
   "outputs": [
    {
     "data": {
      "text/plain": [
       "0       209 \n",
       "1       161 \n",
       "2        83 \n",
       "3       224 \n",
       "4       135 \n",
       "        ... \n",
       "9510     NaN\n",
       "9511     NaN\n",
       "9512     NaN\n",
       "9513     NaN\n",
       "9514     NaN\n",
       "Name: Runtime, Length: 9515, dtype: object"
      ]
     },
     "execution_count": 7,
     "metadata": {},
     "output_type": "execute_result"
    }
   ],
   "source": [
    "df[\"Runtime\"]"
   ]
  },
  {
   "cell_type": "code",
   "execution_count": 8,
   "id": "3f64936d",
   "metadata": {
    "scrolled": true
   },
   "outputs": [
    {
     "data": {
      "text/plain": [
       "Unnamed: 0         9515\n",
       "ID                 9515\n",
       "Title              9515\n",
       "Year               9515\n",
       "Age                5338\n",
       "Netflix            9515\n",
       "Hulu               9515\n",
       "Prime Video        9515\n",
       "Disney+            9515\n",
       "Type               9515\n",
       "Rating              670\n",
       "Runtime (min)         0\n",
       "Genre               717\n",
       "Metascore           568\n",
       "Imdb                769\n",
       "Rotten Tomatoes     717\n",
       "Country             715\n",
       "Runtime             717\n",
       "dtype: int64"
      ]
     },
     "execution_count": 8,
     "metadata": {},
     "output_type": "execute_result"
    }
   ],
   "source": [
    "df.count()"
   ]
  },
  {
   "cell_type": "code",
   "execution_count": 9,
   "id": "661f2f89",
   "metadata": {
    "scrolled": true
   },
   "outputs": [
    {
     "data": {
      "text/html": [
       "<div>\n",
       "<style scoped>\n",
       "    .dataframe tbody tr th:only-of-type {\n",
       "        vertical-align: middle;\n",
       "    }\n",
       "\n",
       "    .dataframe tbody tr th {\n",
       "        vertical-align: top;\n",
       "    }\n",
       "\n",
       "    .dataframe thead th {\n",
       "        text-align: right;\n",
       "    }\n",
       "</style>\n",
       "<table border=\"1\" class=\"dataframe\">\n",
       "  <thead>\n",
       "    <tr style=\"text-align: right;\">\n",
       "      <th></th>\n",
       "      <th>Unnamed: 0</th>\n",
       "      <th>ID</th>\n",
       "      <th>Title</th>\n",
       "      <th>Year</th>\n",
       "      <th>Age</th>\n",
       "      <th>Netflix</th>\n",
       "      <th>Hulu</th>\n",
       "      <th>Prime Video</th>\n",
       "      <th>Disney+</th>\n",
       "      <th>Type</th>\n",
       "      <th>Rating</th>\n",
       "      <th>Genre</th>\n",
       "      <th>Metascore</th>\n",
       "      <th>Imdb</th>\n",
       "      <th>Rotten Tomatoes</th>\n",
       "      <th>Country</th>\n",
       "      <th>Runtime</th>\n",
       "    </tr>\n",
       "  </thead>\n",
       "  <tbody>\n",
       "    <tr>\n",
       "      <th>0</th>\n",
       "      <td>0</td>\n",
       "      <td>1</td>\n",
       "      <td>The Irishman</td>\n",
       "      <td>2019</td>\n",
       "      <td>18+</td>\n",
       "      <td>1</td>\n",
       "      <td>0</td>\n",
       "      <td>0</td>\n",
       "      <td>0</td>\n",
       "      <td>0</td>\n",
       "      <td>R</td>\n",
       "      <td>Biography, Crime, Drama</td>\n",
       "      <td>94.0</td>\n",
       "      <td>7.8</td>\n",
       "      <td>95%</td>\n",
       "      <td>United States</td>\n",
       "      <td>209</td>\n",
       "    </tr>\n",
       "    <tr>\n",
       "      <th>1</th>\n",
       "      <td>1</td>\n",
       "      <td>2</td>\n",
       "      <td>Dangal</td>\n",
       "      <td>2016</td>\n",
       "      <td>7+</td>\n",
       "      <td>1</td>\n",
       "      <td>0</td>\n",
       "      <td>0</td>\n",
       "      <td>0</td>\n",
       "      <td>0</td>\n",
       "      <td>Not Rated</td>\n",
       "      <td>Action, Biography, Drama</td>\n",
       "      <td>NaN</td>\n",
       "      <td>8.3</td>\n",
       "      <td>88%</td>\n",
       "      <td>India, United States</td>\n",
       "      <td>161</td>\n",
       "    </tr>\n",
       "    <tr>\n",
       "      <th>2</th>\n",
       "      <td>2</td>\n",
       "      <td>3</td>\n",
       "      <td>David Attenborough: A Life on Our Planet</td>\n",
       "      <td>2020</td>\n",
       "      <td>7+</td>\n",
       "      <td>1</td>\n",
       "      <td>0</td>\n",
       "      <td>0</td>\n",
       "      <td>0</td>\n",
       "      <td>0</td>\n",
       "      <td>PG</td>\n",
       "      <td>Documentary, Biography</td>\n",
       "      <td>72.0</td>\n",
       "      <td>8.9</td>\n",
       "      <td>96%</td>\n",
       "      <td>United Kingdom</td>\n",
       "      <td>83</td>\n",
       "    </tr>\n",
       "    <tr>\n",
       "      <th>3</th>\n",
       "      <td>3</td>\n",
       "      <td>4</td>\n",
       "      <td>Lagaan: Once Upon a Time in India</td>\n",
       "      <td>2001</td>\n",
       "      <td>7+</td>\n",
       "      <td>1</td>\n",
       "      <td>0</td>\n",
       "      <td>0</td>\n",
       "      <td>0</td>\n",
       "      <td>0</td>\n",
       "      <td>PG</td>\n",
       "      <td>Drama, Musical, Sport</td>\n",
       "      <td>84.0</td>\n",
       "      <td>8.1</td>\n",
       "      <td>95%</td>\n",
       "      <td>India, United States, United Kingdom</td>\n",
       "      <td>224</td>\n",
       "    </tr>\n",
       "    <tr>\n",
       "      <th>4</th>\n",
       "      <td>4</td>\n",
       "      <td>5</td>\n",
       "      <td>Roma</td>\n",
       "      <td>2018</td>\n",
       "      <td>18+</td>\n",
       "      <td>1</td>\n",
       "      <td>0</td>\n",
       "      <td>0</td>\n",
       "      <td>0</td>\n",
       "      <td>0</td>\n",
       "      <td>R</td>\n",
       "      <td>Drama</td>\n",
       "      <td>96.0</td>\n",
       "      <td>7.7</td>\n",
       "      <td>96%</td>\n",
       "      <td>Mexico, United States</td>\n",
       "      <td>135</td>\n",
       "    </tr>\n",
       "    <tr>\n",
       "      <th>...</th>\n",
       "      <td>...</td>\n",
       "      <td>...</td>\n",
       "      <td>...</td>\n",
       "      <td>...</td>\n",
       "      <td>...</td>\n",
       "      <td>...</td>\n",
       "      <td>...</td>\n",
       "      <td>...</td>\n",
       "      <td>...</td>\n",
       "      <td>...</td>\n",
       "      <td>...</td>\n",
       "      <td>...</td>\n",
       "      <td>...</td>\n",
       "      <td>...</td>\n",
       "      <td>...</td>\n",
       "      <td>...</td>\n",
       "      <td>...</td>\n",
       "    </tr>\n",
       "    <tr>\n",
       "      <th>9510</th>\n",
       "      <td>9510</td>\n",
       "      <td>9511</td>\n",
       "      <td>Most Wanted Sharks</td>\n",
       "      <td>2020</td>\n",
       "      <td>NaN</td>\n",
       "      <td>0</td>\n",
       "      <td>0</td>\n",
       "      <td>0</td>\n",
       "      <td>1</td>\n",
       "      <td>0</td>\n",
       "      <td>NaN</td>\n",
       "      <td>NaN</td>\n",
       "      <td>NaN</td>\n",
       "      <td>NaN</td>\n",
       "      <td>NaN</td>\n",
       "      <td>NaN</td>\n",
       "      <td>NaN</td>\n",
       "    </tr>\n",
       "    <tr>\n",
       "      <th>9511</th>\n",
       "      <td>9511</td>\n",
       "      <td>9512</td>\n",
       "      <td>Doc McStuffins: The Doc Is In</td>\n",
       "      <td>2020</td>\n",
       "      <td>NaN</td>\n",
       "      <td>0</td>\n",
       "      <td>0</td>\n",
       "      <td>0</td>\n",
       "      <td>1</td>\n",
       "      <td>0</td>\n",
       "      <td>NaN</td>\n",
       "      <td>NaN</td>\n",
       "      <td>NaN</td>\n",
       "      <td>NaN</td>\n",
       "      <td>NaN</td>\n",
       "      <td>NaN</td>\n",
       "      <td>NaN</td>\n",
       "    </tr>\n",
       "    <tr>\n",
       "      <th>9512</th>\n",
       "      <td>9512</td>\n",
       "      <td>9513</td>\n",
       "      <td>Ultimate Viking Sword</td>\n",
       "      <td>2019</td>\n",
       "      <td>NaN</td>\n",
       "      <td>0</td>\n",
       "      <td>0</td>\n",
       "      <td>0</td>\n",
       "      <td>1</td>\n",
       "      <td>0</td>\n",
       "      <td>NaN</td>\n",
       "      <td>NaN</td>\n",
       "      <td>NaN</td>\n",
       "      <td>NaN</td>\n",
       "      <td>NaN</td>\n",
       "      <td>NaN</td>\n",
       "      <td>NaN</td>\n",
       "    </tr>\n",
       "    <tr>\n",
       "      <th>9513</th>\n",
       "      <td>9513</td>\n",
       "      <td>9514</td>\n",
       "      <td>Hunt for the Abominable Snowman</td>\n",
       "      <td>2011</td>\n",
       "      <td>NaN</td>\n",
       "      <td>0</td>\n",
       "      <td>0</td>\n",
       "      <td>0</td>\n",
       "      <td>1</td>\n",
       "      <td>0</td>\n",
       "      <td>NaN</td>\n",
       "      <td>NaN</td>\n",
       "      <td>NaN</td>\n",
       "      <td>NaN</td>\n",
       "      <td>NaN</td>\n",
       "      <td>NaN</td>\n",
       "      <td>NaN</td>\n",
       "    </tr>\n",
       "    <tr>\n",
       "      <th>9514</th>\n",
       "      <td>9514</td>\n",
       "      <td>9515</td>\n",
       "      <td>Women of Impact: Changing the World</td>\n",
       "      <td>2019</td>\n",
       "      <td>7+</td>\n",
       "      <td>0</td>\n",
       "      <td>0</td>\n",
       "      <td>0</td>\n",
       "      <td>1</td>\n",
       "      <td>0</td>\n",
       "      <td>NaN</td>\n",
       "      <td>NaN</td>\n",
       "      <td>NaN</td>\n",
       "      <td>NaN</td>\n",
       "      <td>NaN</td>\n",
       "      <td>NaN</td>\n",
       "      <td>NaN</td>\n",
       "    </tr>\n",
       "  </tbody>\n",
       "</table>\n",
       "<p>9515 rows × 17 columns</p>\n",
       "</div>"
      ],
      "text/plain": [
       "      Unnamed: 0    ID                                     Title  Year  Age  \\\n",
       "0              0     1                              The Irishman  2019  18+   \n",
       "1              1     2                                    Dangal  2016   7+   \n",
       "2              2     3  David Attenborough: A Life on Our Planet  2020   7+   \n",
       "3              3     4         Lagaan: Once Upon a Time in India  2001   7+   \n",
       "4              4     5                                      Roma  2018  18+   \n",
       "...          ...   ...                                       ...   ...  ...   \n",
       "9510        9510  9511                        Most Wanted Sharks  2020  NaN   \n",
       "9511        9511  9512             Doc McStuffins: The Doc Is In  2020  NaN   \n",
       "9512        9512  9513                     Ultimate Viking Sword  2019  NaN   \n",
       "9513        9513  9514           Hunt for the Abominable Snowman  2011  NaN   \n",
       "9514        9514  9515       Women of Impact: Changing the World  2019   7+   \n",
       "\n",
       "      Netflix  Hulu  Prime Video  Disney+  Type     Rating  \\\n",
       "0           1     0            0        0     0          R   \n",
       "1           1     0            0        0     0  Not Rated   \n",
       "2           1     0            0        0     0         PG   \n",
       "3           1     0            0        0     0         PG   \n",
       "4           1     0            0        0     0          R   \n",
       "...       ...   ...          ...      ...   ...        ...   \n",
       "9510        0     0            0        1     0        NaN   \n",
       "9511        0     0            0        1     0        NaN   \n",
       "9512        0     0            0        1     0        NaN   \n",
       "9513        0     0            0        1     0        NaN   \n",
       "9514        0     0            0        1     0        NaN   \n",
       "\n",
       "                         Genre  Metascore  Imdb Rotten Tomatoes  \\\n",
       "0      Biography, Crime, Drama       94.0   7.8             95%   \n",
       "1     Action, Biography, Drama        NaN   8.3             88%   \n",
       "2       Documentary, Biography       72.0   8.9             96%   \n",
       "3        Drama, Musical, Sport       84.0   8.1             95%   \n",
       "4                        Drama       96.0   7.7             96%   \n",
       "...                        ...        ...   ...             ...   \n",
       "9510                       NaN        NaN   NaN             NaN   \n",
       "9511                       NaN        NaN   NaN             NaN   \n",
       "9512                       NaN        NaN   NaN             NaN   \n",
       "9513                       NaN        NaN   NaN             NaN   \n",
       "9514                       NaN        NaN   NaN             NaN   \n",
       "\n",
       "                                   Country Runtime  \n",
       "0                            United States    209   \n",
       "1                     India, United States    161   \n",
       "2                           United Kingdom     83   \n",
       "3     India, United States, United Kingdom    224   \n",
       "4                    Mexico, United States    135   \n",
       "...                                    ...     ...  \n",
       "9510                                   NaN     NaN  \n",
       "9511                                   NaN     NaN  \n",
       "9512                                   NaN     NaN  \n",
       "9513                                   NaN     NaN  \n",
       "9514                                   NaN     NaN  \n",
       "\n",
       "[9515 rows x 17 columns]"
      ]
     },
     "execution_count": 9,
     "metadata": {},
     "output_type": "execute_result"
    }
   ],
   "source": [
    "df = df.drop(\"Runtime (min)\", axis = 1)\n",
    "df"
   ]
  },
  {
   "cell_type": "code",
   "execution_count": 10,
   "id": "3ddd234d",
   "metadata": {
    "scrolled": false
   },
   "outputs": [
    {
     "data": {
      "text/plain": [
       "<bound method DataFrame.count of       Unnamed: 0    ID                                     Title  Year  Age  \\\n",
       "0              0     1                              The Irishman  2019  18+   \n",
       "1              1     2                                    Dangal  2016   7+   \n",
       "2              2     3  David Attenborough: A Life on Our Planet  2020   7+   \n",
       "3              3     4         Lagaan: Once Upon a Time in India  2001   7+   \n",
       "4              4     5                                      Roma  2018  18+   \n",
       "...          ...   ...                                       ...   ...  ...   \n",
       "9510        9510  9511                        Most Wanted Sharks  2020  NaN   \n",
       "9511        9511  9512             Doc McStuffins: The Doc Is In  2020  NaN   \n",
       "9512        9512  9513                     Ultimate Viking Sword  2019  NaN   \n",
       "9513        9513  9514           Hunt for the Abominable Snowman  2011  NaN   \n",
       "9514        9514  9515       Women of Impact: Changing the World  2019   7+   \n",
       "\n",
       "      Netflix  Hulu  Prime Video  Disney+  Type     Rating  \\\n",
       "0           1     0            0        0     0          R   \n",
       "1           1     0            0        0     0  Not Rated   \n",
       "2           1     0            0        0     0         PG   \n",
       "3           1     0            0        0     0         PG   \n",
       "4           1     0            0        0     0          R   \n",
       "...       ...   ...          ...      ...   ...        ...   \n",
       "9510        0     0            0        1     0        NaN   \n",
       "9511        0     0            0        1     0        NaN   \n",
       "9512        0     0            0        1     0        NaN   \n",
       "9513        0     0            0        1     0        NaN   \n",
       "9514        0     0            0        1     0        NaN   \n",
       "\n",
       "                         Genre  Metascore  Imdb Rotten Tomatoes  \\\n",
       "0      Biography, Crime, Drama       94.0   7.8             95%   \n",
       "1     Action, Biography, Drama        NaN   8.3             88%   \n",
       "2       Documentary, Biography       72.0   8.9             96%   \n",
       "3        Drama, Musical, Sport       84.0   8.1             95%   \n",
       "4                        Drama       96.0   7.7             96%   \n",
       "...                        ...        ...   ...             ...   \n",
       "9510                       NaN        NaN   NaN             NaN   \n",
       "9511                       NaN        NaN   NaN             NaN   \n",
       "9512                       NaN        NaN   NaN             NaN   \n",
       "9513                       NaN        NaN   NaN             NaN   \n",
       "9514                       NaN        NaN   NaN             NaN   \n",
       "\n",
       "                                   Country Runtime  \n",
       "0                            United States    209   \n",
       "1                     India, United States    161   \n",
       "2                           United Kingdom     83   \n",
       "3     India, United States, United Kingdom    224   \n",
       "4                    Mexico, United States    135   \n",
       "...                                    ...     ...  \n",
       "9510                                   NaN     NaN  \n",
       "9511                                   NaN     NaN  \n",
       "9512                                   NaN     NaN  \n",
       "9513                                   NaN     NaN  \n",
       "9514                                   NaN     NaN  \n",
       "\n",
       "[9515 rows x 17 columns]>"
      ]
     },
     "execution_count": 10,
     "metadata": {},
     "output_type": "execute_result"
    }
   ],
   "source": [
    "df.count"
   ]
  },
  {
   "cell_type": "code",
   "execution_count": 11,
   "id": "aa3f865d",
   "metadata": {
    "scrolled": true
   },
   "outputs": [
    {
     "data": {
      "text/html": [
       "<div>\n",
       "<style scoped>\n",
       "    .dataframe tbody tr th:only-of-type {\n",
       "        vertical-align: middle;\n",
       "    }\n",
       "\n",
       "    .dataframe tbody tr th {\n",
       "        vertical-align: top;\n",
       "    }\n",
       "\n",
       "    .dataframe thead th {\n",
       "        text-align: right;\n",
       "    }\n",
       "</style>\n",
       "<table border=\"1\" class=\"dataframe\">\n",
       "  <thead>\n",
       "    <tr style=\"text-align: right;\">\n",
       "      <th></th>\n",
       "      <th>Unnamed: 0</th>\n",
       "      <th>ID</th>\n",
       "      <th>Title</th>\n",
       "      <th>Year</th>\n",
       "      <th>Age</th>\n",
       "      <th>Netflix</th>\n",
       "      <th>Hulu</th>\n",
       "      <th>Prime Video</th>\n",
       "      <th>Disney+</th>\n",
       "      <th>Type</th>\n",
       "      <th>Rating</th>\n",
       "      <th>Genre</th>\n",
       "      <th>Metascore</th>\n",
       "      <th>Imdb</th>\n",
       "      <th>Rotten Tomatoes</th>\n",
       "      <th>Country</th>\n",
       "      <th>Runtime</th>\n",
       "    </tr>\n",
       "  </thead>\n",
       "  <tbody>\n",
       "    <tr>\n",
       "      <th>0</th>\n",
       "      <td>0</td>\n",
       "      <td>1</td>\n",
       "      <td>The Irishman</td>\n",
       "      <td>2019</td>\n",
       "      <td>18+</td>\n",
       "      <td>1</td>\n",
       "      <td>0</td>\n",
       "      <td>0</td>\n",
       "      <td>0</td>\n",
       "      <td>0</td>\n",
       "      <td>R</td>\n",
       "      <td>Biography, Crime, Drama</td>\n",
       "      <td>94.0</td>\n",
       "      <td>7.8</td>\n",
       "      <td>95%</td>\n",
       "      <td>United States</td>\n",
       "      <td>209</td>\n",
       "    </tr>\n",
       "    <tr>\n",
       "      <th>2</th>\n",
       "      <td>2</td>\n",
       "      <td>3</td>\n",
       "      <td>David Attenborough: A Life on Our Planet</td>\n",
       "      <td>2020</td>\n",
       "      <td>7+</td>\n",
       "      <td>1</td>\n",
       "      <td>0</td>\n",
       "      <td>0</td>\n",
       "      <td>0</td>\n",
       "      <td>0</td>\n",
       "      <td>PG</td>\n",
       "      <td>Documentary, Biography</td>\n",
       "      <td>72.0</td>\n",
       "      <td>8.9</td>\n",
       "      <td>96%</td>\n",
       "      <td>United Kingdom</td>\n",
       "      <td>83</td>\n",
       "    </tr>\n",
       "    <tr>\n",
       "      <th>3</th>\n",
       "      <td>3</td>\n",
       "      <td>4</td>\n",
       "      <td>Lagaan: Once Upon a Time in India</td>\n",
       "      <td>2001</td>\n",
       "      <td>7+</td>\n",
       "      <td>1</td>\n",
       "      <td>0</td>\n",
       "      <td>0</td>\n",
       "      <td>0</td>\n",
       "      <td>0</td>\n",
       "      <td>PG</td>\n",
       "      <td>Drama, Musical, Sport</td>\n",
       "      <td>84.0</td>\n",
       "      <td>8.1</td>\n",
       "      <td>95%</td>\n",
       "      <td>India, United States, United Kingdom</td>\n",
       "      <td>224</td>\n",
       "    </tr>\n",
       "    <tr>\n",
       "      <th>4</th>\n",
       "      <td>4</td>\n",
       "      <td>5</td>\n",
       "      <td>Roma</td>\n",
       "      <td>2018</td>\n",
       "      <td>18+</td>\n",
       "      <td>1</td>\n",
       "      <td>0</td>\n",
       "      <td>0</td>\n",
       "      <td>0</td>\n",
       "      <td>0</td>\n",
       "      <td>R</td>\n",
       "      <td>Drama</td>\n",
       "      <td>96.0</td>\n",
       "      <td>7.7</td>\n",
       "      <td>96%</td>\n",
       "      <td>Mexico, United States</td>\n",
       "      <td>135</td>\n",
       "    </tr>\n",
       "    <tr>\n",
       "      <th>5</th>\n",
       "      <td>5</td>\n",
       "      <td>6</td>\n",
       "      <td>To All the Boys I've Loved Before</td>\n",
       "      <td>2018</td>\n",
       "      <td>13+</td>\n",
       "      <td>1</td>\n",
       "      <td>0</td>\n",
       "      <td>0</td>\n",
       "      <td>0</td>\n",
       "      <td>0</td>\n",
       "      <td>TV-14</td>\n",
       "      <td>Comedy, Drama, Romance</td>\n",
       "      <td>64.0</td>\n",
       "      <td>7.0</td>\n",
       "      <td>96%</td>\n",
       "      <td>United States</td>\n",
       "      <td>99</td>\n",
       "    </tr>\n",
       "    <tr>\n",
       "      <th>...</th>\n",
       "      <td>...</td>\n",
       "      <td>...</td>\n",
       "      <td>...</td>\n",
       "      <td>...</td>\n",
       "      <td>...</td>\n",
       "      <td>...</td>\n",
       "      <td>...</td>\n",
       "      <td>...</td>\n",
       "      <td>...</td>\n",
       "      <td>...</td>\n",
       "      <td>...</td>\n",
       "      <td>...</td>\n",
       "      <td>...</td>\n",
       "      <td>...</td>\n",
       "      <td>...</td>\n",
       "      <td>...</td>\n",
       "      <td>...</td>\n",
       "    </tr>\n",
       "    <tr>\n",
       "      <th>787</th>\n",
       "      <td>787</td>\n",
       "      <td>788</td>\n",
       "      <td>Congo</td>\n",
       "      <td>1995</td>\n",
       "      <td>13+</td>\n",
       "      <td>1</td>\n",
       "      <td>0</td>\n",
       "      <td>0</td>\n",
       "      <td>0</td>\n",
       "      <td>0</td>\n",
       "      <td>PG-13</td>\n",
       "      <td>Action, Adventure, Mystery</td>\n",
       "      <td>22.0</td>\n",
       "      <td>5.2</td>\n",
       "      <td>22%</td>\n",
       "      <td>United States</td>\n",
       "      <td>109</td>\n",
       "    </tr>\n",
       "    <tr>\n",
       "      <th>788</th>\n",
       "      <td>788</td>\n",
       "      <td>789</td>\n",
       "      <td>The Prom</td>\n",
       "      <td>2020</td>\n",
       "      <td>13+</td>\n",
       "      <td>1</td>\n",
       "      <td>0</td>\n",
       "      <td>0</td>\n",
       "      <td>0</td>\n",
       "      <td>0</td>\n",
       "      <td>PG-13</td>\n",
       "      <td>Comedy, Drama, Musical</td>\n",
       "      <td>55.0</td>\n",
       "      <td>5.9</td>\n",
       "      <td>54%</td>\n",
       "      <td>United States</td>\n",
       "      <td>130</td>\n",
       "    </tr>\n",
       "    <tr>\n",
       "      <th>790</th>\n",
       "      <td>790</td>\n",
       "      <td>791</td>\n",
       "      <td>The Bling Ring</td>\n",
       "      <td>2013</td>\n",
       "      <td>18+</td>\n",
       "      <td>1</td>\n",
       "      <td>0</td>\n",
       "      <td>0</td>\n",
       "      <td>0</td>\n",
       "      <td>0</td>\n",
       "      <td>R</td>\n",
       "      <td>Biography, Crime, Drama</td>\n",
       "      <td>66.0</td>\n",
       "      <td>5.6</td>\n",
       "      <td>60%</td>\n",
       "      <td>United States, United Kingdom, France, Germany...</td>\n",
       "      <td>90</td>\n",
       "    </tr>\n",
       "    <tr>\n",
       "      <th>791</th>\n",
       "      <td>791</td>\n",
       "      <td>792</td>\n",
       "      <td>Greater</td>\n",
       "      <td>2016</td>\n",
       "      <td>7+</td>\n",
       "      <td>1</td>\n",
       "      <td>0</td>\n",
       "      <td>0</td>\n",
       "      <td>0</td>\n",
       "      <td>0</td>\n",
       "      <td>PG</td>\n",
       "      <td>Biography, Family, Sport</td>\n",
       "      <td>35.0</td>\n",
       "      <td>7.3</td>\n",
       "      <td>69%</td>\n",
       "      <td>United States</td>\n",
       "      <td>130</td>\n",
       "    </tr>\n",
       "    <tr>\n",
       "      <th>797</th>\n",
       "      <td>797</td>\n",
       "      <td>798</td>\n",
       "      <td>Lost Girls</td>\n",
       "      <td>2020</td>\n",
       "      <td>18+</td>\n",
       "      <td>1</td>\n",
       "      <td>0</td>\n",
       "      <td>0</td>\n",
       "      <td>0</td>\n",
       "      <td>0</td>\n",
       "      <td>R</td>\n",
       "      <td>Crime, Drama, Mystery</td>\n",
       "      <td>67.0</td>\n",
       "      <td>6.1</td>\n",
       "      <td>75%</td>\n",
       "      <td>United States</td>\n",
       "      <td>95</td>\n",
       "    </tr>\n",
       "  </tbody>\n",
       "</table>\n",
       "<p>505 rows × 17 columns</p>\n",
       "</div>"
      ],
      "text/plain": [
       "     Unnamed: 0   ID                                     Title  Year  Age  \\\n",
       "0             0    1                              The Irishman  2019  18+   \n",
       "2             2    3  David Attenborough: A Life on Our Planet  2020   7+   \n",
       "3             3    4         Lagaan: Once Upon a Time in India  2001   7+   \n",
       "4             4    5                                      Roma  2018  18+   \n",
       "5             5    6         To All the Boys I've Loved Before  2018  13+   \n",
       "..          ...  ...                                       ...   ...  ...   \n",
       "787         787  788                                     Congo  1995  13+   \n",
       "788         788  789                                  The Prom  2020  13+   \n",
       "790         790  791                            The Bling Ring  2013  18+   \n",
       "791         791  792                                   Greater  2016   7+   \n",
       "797         797  798                                Lost Girls  2020  18+   \n",
       "\n",
       "     Netflix  Hulu  Prime Video  Disney+  Type Rating  \\\n",
       "0          1     0            0        0     0      R   \n",
       "2          1     0            0        0     0     PG   \n",
       "3          1     0            0        0     0     PG   \n",
       "4          1     0            0        0     0      R   \n",
       "5          1     0            0        0     0  TV-14   \n",
       "..       ...   ...          ...      ...   ...    ...   \n",
       "787        1     0            0        0     0  PG-13   \n",
       "788        1     0            0        0     0  PG-13   \n",
       "790        1     0            0        0     0      R   \n",
       "791        1     0            0        0     0     PG   \n",
       "797        1     0            0        0     0      R   \n",
       "\n",
       "                          Genre  Metascore  Imdb Rotten Tomatoes  \\\n",
       "0       Biography, Crime, Drama       94.0   7.8             95%   \n",
       "2        Documentary, Biography       72.0   8.9             96%   \n",
       "3         Drama, Musical, Sport       84.0   8.1             95%   \n",
       "4                         Drama       96.0   7.7             96%   \n",
       "5        Comedy, Drama, Romance       64.0   7.0             96%   \n",
       "..                          ...        ...   ...             ...   \n",
       "787  Action, Adventure, Mystery       22.0   5.2             22%   \n",
       "788      Comedy, Drama, Musical       55.0   5.9             54%   \n",
       "790     Biography, Crime, Drama       66.0   5.6             60%   \n",
       "791    Biography, Family, Sport       35.0   7.3             69%   \n",
       "797       Crime, Drama, Mystery       67.0   6.1             75%   \n",
       "\n",
       "                                               Country Runtime  \n",
       "0                                        United States    209   \n",
       "2                                       United Kingdom     83   \n",
       "3                 India, United States, United Kingdom    224   \n",
       "4                                Mexico, United States    135   \n",
       "5                                        United States     99   \n",
       "..                                                 ...     ...  \n",
       "787                                      United States    109   \n",
       "788                                      United States    130   \n",
       "790  United States, United Kingdom, France, Germany...     90   \n",
       "791                                      United States    130   \n",
       "797                                      United States     95   \n",
       "\n",
       "[505 rows x 17 columns]"
      ]
     },
     "execution_count": 11,
     "metadata": {},
     "output_type": "execute_result"
    }
   ],
   "source": [
    "df = df.dropna()\n",
    "df"
   ]
  },
  {
   "cell_type": "code",
   "execution_count": 12,
   "id": "c26cd664",
   "metadata": {
    "scrolled": true
   },
   "outputs": [
    {
     "data": {
      "text/plain": [
       "Unnamed: 0         505\n",
       "ID                 505\n",
       "Title              505\n",
       "Year               505\n",
       "Age                505\n",
       "Netflix            505\n",
       "Hulu               505\n",
       "Prime Video        505\n",
       "Disney+            505\n",
       "Type               505\n",
       "Rating             505\n",
       "Genre              505\n",
       "Metascore          505\n",
       "Imdb               505\n",
       "Rotten Tomatoes    505\n",
       "Country            505\n",
       "Runtime            505\n",
       "dtype: int64"
      ]
     },
     "execution_count": 12,
     "metadata": {},
     "output_type": "execute_result"
    }
   ],
   "source": [
    "df.count()"
   ]
  },
  {
   "cell_type": "code",
   "execution_count": 13,
   "id": "6bd1607e",
   "metadata": {},
   "outputs": [
    {
     "data": {
      "text/plain": [
       "Unnamed: 0           int64\n",
       "ID                   int64\n",
       "Title               object\n",
       "Year                 int64\n",
       "Age                 object\n",
       "Netflix              int64\n",
       "Hulu                 int64\n",
       "Prime Video          int64\n",
       "Disney+              int64\n",
       "Type                 int64\n",
       "Rating              object\n",
       "Genre               object\n",
       "Metascore          float64\n",
       "Imdb               float64\n",
       "Rotten Tomatoes     object\n",
       "Country             object\n",
       "Runtime             object\n",
       "dtype: object"
      ]
     },
     "execution_count": 13,
     "metadata": {},
     "output_type": "execute_result"
    }
   ],
   "source": [
    "df.dtypes"
   ]
  },
  {
   "cell_type": "code",
   "execution_count": 14,
   "id": "413bcc66",
   "metadata": {
    "scrolled": true
   },
   "outputs": [
    {
     "name": "stderr",
     "output_type": "stream",
     "text": [
      "C:\\Users\\kimbe\\AppData\\Local\\Temp\\ipykernel_70200\\2396020644.py:2: SettingWithCopyWarning: \n",
      "A value is trying to be set on a copy of a slice from a DataFrame.\n",
      "Try using .loc[row_indexer,col_indexer] = value instead\n",
      "\n",
      "See the caveats in the documentation: https://pandas.pydata.org/pandas-docs/stable/user_guide/indexing.html#returning-a-view-versus-a-copy\n",
      "  df[\"Runtime\"] = df['Runtime'].astype(float)\n"
     ]
    },
    {
     "data": {
      "text/plain": [
       "0      209.0\n",
       "2       83.0\n",
       "3      224.0\n",
       "4      135.0\n",
       "5       99.0\n",
       "       ...  \n",
       "787    109.0\n",
       "788    130.0\n",
       "790     90.0\n",
       "791    130.0\n",
       "797     95.0\n",
       "Name: Runtime, Length: 505, dtype: float64"
      ]
     },
     "execution_count": 14,
     "metadata": {},
     "output_type": "execute_result"
    }
   ],
   "source": [
    "# convert object to float\n",
    "df[\"Runtime\"] = df['Runtime'].astype(float)\n",
    "df[\"Runtime\"]"
   ]
  },
  {
   "cell_type": "code",
   "execution_count": 15,
   "id": "25c6bf76",
   "metadata": {
    "scrolled": true
   },
   "outputs": [
    {
     "data": {
      "text/plain": [
       "Unnamed: 0           int64\n",
       "ID                   int64\n",
       "Title               object\n",
       "Year                 int64\n",
       "Age                 object\n",
       "Netflix              int64\n",
       "Hulu                 int64\n",
       "Prime Video          int64\n",
       "Disney+              int64\n",
       "Type                 int64\n",
       "Rating              object\n",
       "Genre               object\n",
       "Metascore          float64\n",
       "Imdb               float64\n",
       "Rotten Tomatoes     object\n",
       "Country             object\n",
       "Runtime            float64\n",
       "dtype: object"
      ]
     },
     "execution_count": 15,
     "metadata": {},
     "output_type": "execute_result"
    }
   ],
   "source": [
    "df.dtypes"
   ]
  },
  {
   "cell_type": "code",
   "execution_count": 16,
   "id": "a00b727f",
   "metadata": {
    "scrolled": true
   },
   "outputs": [
    {
     "data": {
      "text/html": [
       "<div>\n",
       "<style scoped>\n",
       "    .dataframe tbody tr th:only-of-type {\n",
       "        vertical-align: middle;\n",
       "    }\n",
       "\n",
       "    .dataframe tbody tr th {\n",
       "        vertical-align: top;\n",
       "    }\n",
       "\n",
       "    .dataframe thead th {\n",
       "        text-align: right;\n",
       "    }\n",
       "</style>\n",
       "<table border=\"1\" class=\"dataframe\">\n",
       "  <thead>\n",
       "    <tr style=\"text-align: right;\">\n",
       "      <th></th>\n",
       "      <th>Unnamed: 0</th>\n",
       "      <th>ID</th>\n",
       "      <th>Title</th>\n",
       "      <th>Year</th>\n",
       "      <th>Age</th>\n",
       "      <th>Netflix</th>\n",
       "      <th>Hulu</th>\n",
       "      <th>Prime Video</th>\n",
       "      <th>Disney+</th>\n",
       "      <th>Type</th>\n",
       "      <th>Rating</th>\n",
       "      <th>Genre</th>\n",
       "      <th>Metascore</th>\n",
       "      <th>Imdb</th>\n",
       "      <th>Rotten Tomatoes</th>\n",
       "      <th>Country</th>\n",
       "      <th>Runtime</th>\n",
       "    </tr>\n",
       "  </thead>\n",
       "  <tbody>\n",
       "    <tr>\n",
       "      <th>0</th>\n",
       "      <td>0</td>\n",
       "      <td>1</td>\n",
       "      <td>The Irishman</td>\n",
       "      <td>2019</td>\n",
       "      <td>18+</td>\n",
       "      <td>1</td>\n",
       "      <td>0</td>\n",
       "      <td>0</td>\n",
       "      <td>0</td>\n",
       "      <td>0</td>\n",
       "      <td>R</td>\n",
       "      <td>Biography, Crime, Drama</td>\n",
       "      <td>94.0</td>\n",
       "      <td>7.8</td>\n",
       "      <td>95%</td>\n",
       "      <td>United States</td>\n",
       "      <td>209.0</td>\n",
       "    </tr>\n",
       "    <tr>\n",
       "      <th>2</th>\n",
       "      <td>2</td>\n",
       "      <td>3</td>\n",
       "      <td>David Attenborough: A Life on Our Planet</td>\n",
       "      <td>2020</td>\n",
       "      <td>7+</td>\n",
       "      <td>1</td>\n",
       "      <td>0</td>\n",
       "      <td>0</td>\n",
       "      <td>0</td>\n",
       "      <td>0</td>\n",
       "      <td>PG</td>\n",
       "      <td>Documentary, Biography</td>\n",
       "      <td>72.0</td>\n",
       "      <td>8.9</td>\n",
       "      <td>96%</td>\n",
       "      <td>United Kingdom</td>\n",
       "      <td>83.0</td>\n",
       "    </tr>\n",
       "    <tr>\n",
       "      <th>3</th>\n",
       "      <td>3</td>\n",
       "      <td>4</td>\n",
       "      <td>Lagaan: Once Upon a Time in India</td>\n",
       "      <td>2001</td>\n",
       "      <td>7+</td>\n",
       "      <td>1</td>\n",
       "      <td>0</td>\n",
       "      <td>0</td>\n",
       "      <td>0</td>\n",
       "      <td>0</td>\n",
       "      <td>PG</td>\n",
       "      <td>Drama, Musical, Sport</td>\n",
       "      <td>84.0</td>\n",
       "      <td>8.1</td>\n",
       "      <td>95%</td>\n",
       "      <td>India, United States, United Kingdom</td>\n",
       "      <td>224.0</td>\n",
       "    </tr>\n",
       "    <tr>\n",
       "      <th>4</th>\n",
       "      <td>4</td>\n",
       "      <td>5</td>\n",
       "      <td>Roma</td>\n",
       "      <td>2018</td>\n",
       "      <td>18+</td>\n",
       "      <td>1</td>\n",
       "      <td>0</td>\n",
       "      <td>0</td>\n",
       "      <td>0</td>\n",
       "      <td>0</td>\n",
       "      <td>R</td>\n",
       "      <td>Drama</td>\n",
       "      <td>96.0</td>\n",
       "      <td>7.7</td>\n",
       "      <td>96%</td>\n",
       "      <td>Mexico, United States</td>\n",
       "      <td>135.0</td>\n",
       "    </tr>\n",
       "    <tr>\n",
       "      <th>5</th>\n",
       "      <td>5</td>\n",
       "      <td>6</td>\n",
       "      <td>To All the Boys I've Loved Before</td>\n",
       "      <td>2018</td>\n",
       "      <td>13+</td>\n",
       "      <td>1</td>\n",
       "      <td>0</td>\n",
       "      <td>0</td>\n",
       "      <td>0</td>\n",
       "      <td>0</td>\n",
       "      <td>TV-14</td>\n",
       "      <td>Comedy, Drama, Romance</td>\n",
       "      <td>64.0</td>\n",
       "      <td>7.0</td>\n",
       "      <td>96%</td>\n",
       "      <td>United States</td>\n",
       "      <td>99.0</td>\n",
       "    </tr>\n",
       "  </tbody>\n",
       "</table>\n",
       "</div>"
      ],
      "text/plain": [
       "   Unnamed: 0  ID                                     Title  Year  Age  \\\n",
       "0           0   1                              The Irishman  2019  18+   \n",
       "2           2   3  David Attenborough: A Life on Our Planet  2020   7+   \n",
       "3           3   4         Lagaan: Once Upon a Time in India  2001   7+   \n",
       "4           4   5                                      Roma  2018  18+   \n",
       "5           5   6         To All the Boys I've Loved Before  2018  13+   \n",
       "\n",
       "   Netflix  Hulu  Prime Video  Disney+  Type Rating                    Genre  \\\n",
       "0        1     0            0        0     0      R  Biography, Crime, Drama   \n",
       "2        1     0            0        0     0     PG   Documentary, Biography   \n",
       "3        1     0            0        0     0     PG    Drama, Musical, Sport   \n",
       "4        1     0            0        0     0      R                    Drama   \n",
       "5        1     0            0        0     0  TV-14   Comedy, Drama, Romance   \n",
       "\n",
       "   Metascore  Imdb Rotten Tomatoes                               Country  \\\n",
       "0       94.0   7.8             95%                         United States   \n",
       "2       72.0   8.9             96%                        United Kingdom   \n",
       "3       84.0   8.1             95%  India, United States, United Kingdom   \n",
       "4       96.0   7.7             96%                 Mexico, United States   \n",
       "5       64.0   7.0             96%                         United States   \n",
       "\n",
       "   Runtime  \n",
       "0    209.0  \n",
       "2     83.0  \n",
       "3    224.0  \n",
       "4    135.0  \n",
       "5     99.0  "
      ]
     },
     "execution_count": 16,
     "metadata": {},
     "output_type": "execute_result"
    }
   ],
   "source": [
    "df.head()"
   ]
  },
  {
   "cell_type": "code",
   "execution_count": 17,
   "id": "ddac7859",
   "metadata": {
    "scrolled": true
   },
   "outputs": [
    {
     "data": {
      "text/html": [
       "<div>\n",
       "<style scoped>\n",
       "    .dataframe tbody tr th:only-of-type {\n",
       "        vertical-align: middle;\n",
       "    }\n",
       "\n",
       "    .dataframe tbody tr th {\n",
       "        vertical-align: top;\n",
       "    }\n",
       "\n",
       "    .dataframe thead th {\n",
       "        text-align: right;\n",
       "    }\n",
       "</style>\n",
       "<table border=\"1\" class=\"dataframe\">\n",
       "  <thead>\n",
       "    <tr style=\"text-align: right;\">\n",
       "      <th></th>\n",
       "      <th>Runtime Average Netflix</th>\n",
       "    </tr>\n",
       "    <tr>\n",
       "      <th>Netflix</th>\n",
       "      <th></th>\n",
       "    </tr>\n",
       "  </thead>\n",
       "  <tbody>\n",
       "    <tr>\n",
       "      <th>1</th>\n",
       "      <td>109.984158</td>\n",
       "    </tr>\n",
       "  </tbody>\n",
       "</table>\n",
       "</div>"
      ],
      "text/plain": [
       "         Runtime Average Netflix\n",
       "Netflix                         \n",
       "1                     109.984158"
      ]
     },
     "execution_count": 17,
     "metadata": {},
     "output_type": "execute_result"
    }
   ],
   "source": [
    "groupbyMeanNetflix = df.groupby([\"Netflix\"])[\"Runtime\"].mean()\n",
    "summaryNetflixStats = {\"Runtime Average Netflix\": groupbyMeanNetflix}\n",
    "summaryNetflixStatsDF = pd.DataFrame(summaryNetflixStats)\n",
    "summaryNetflixStatsDF.head(2)"
   ]
  },
  {
   "cell_type": "code",
   "execution_count": 18,
   "id": "b2a55f3a",
   "metadata": {
    "scrolled": true
   },
   "outputs": [],
   "source": [
    "groupbyMeanHulu = df.groupby([\"Hulu\"])[\"Runtime\"].mean()\n",
    "# groupbyMeanHulu = groupbyMeanHulu.loc[groupbyMeanHulu[]]"
   ]
  },
  {
   "cell_type": "code",
   "execution_count": 19,
   "id": "e1fea306",
   "metadata": {},
   "outputs": [
    {
     "data": {
      "text/html": [
       "<div>\n",
       "<style scoped>\n",
       "    .dataframe tbody tr th:only-of-type {\n",
       "        vertical-align: middle;\n",
       "    }\n",
       "\n",
       "    .dataframe tbody tr th {\n",
       "        vertical-align: top;\n",
       "    }\n",
       "\n",
       "    .dataframe thead th {\n",
       "        text-align: right;\n",
       "    }\n",
       "</style>\n",
       "<table border=\"1\" class=\"dataframe\">\n",
       "  <thead>\n",
       "    <tr style=\"text-align: right;\">\n",
       "      <th></th>\n",
       "      <th>Runtime Average Hulu</th>\n",
       "    </tr>\n",
       "    <tr>\n",
       "      <th>Hulu</th>\n",
       "      <th></th>\n",
       "    </tr>\n",
       "  </thead>\n",
       "  <tbody>\n",
       "    <tr>\n",
       "      <th>0</th>\n",
       "      <td>109.911523</td>\n",
       "    </tr>\n",
       "    <tr>\n",
       "      <th>1</th>\n",
       "      <td>111.842105</td>\n",
       "    </tr>\n",
       "  </tbody>\n",
       "</table>\n",
       "</div>"
      ],
      "text/plain": [
       "      Runtime Average Hulu\n",
       "Hulu                      \n",
       "0               109.911523\n",
       "1               111.842105"
      ]
     },
     "execution_count": 19,
     "metadata": {},
     "output_type": "execute_result"
    }
   ],
   "source": [
    "summaryHuluStats = {\"Runtime Average Hulu\": groupbyMeanHulu}\n",
    "summaryHuluStatsDF = pd.DataFrame(summaryHuluStats)\n",
    "summaryHuluStatsDF.head(2)"
   ]
  },
  {
   "cell_type": "code",
   "execution_count": 20,
   "id": "fa1780cc",
   "metadata": {
    "scrolled": true
   },
   "outputs": [
    {
     "data": {
      "text/html": [
       "<div>\n",
       "<style scoped>\n",
       "    .dataframe tbody tr th:only-of-type {\n",
       "        vertical-align: middle;\n",
       "    }\n",
       "\n",
       "    .dataframe tbody tr th {\n",
       "        vertical-align: top;\n",
       "    }\n",
       "\n",
       "    .dataframe thead th {\n",
       "        text-align: right;\n",
       "    }\n",
       "</style>\n",
       "<table border=\"1\" class=\"dataframe\">\n",
       "  <thead>\n",
       "    <tr style=\"text-align: right;\">\n",
       "      <th></th>\n",
       "      <th>Runtime Average Hulu</th>\n",
       "    </tr>\n",
       "    <tr>\n",
       "      <th>Hulu</th>\n",
       "      <th></th>\n",
       "    </tr>\n",
       "  </thead>\n",
       "  <tbody>\n",
       "    <tr>\n",
       "      <th>1</th>\n",
       "      <td>111.842105</td>\n",
       "    </tr>\n",
       "  </tbody>\n",
       "</table>\n",
       "</div>"
      ],
      "text/plain": [
       "      Runtime Average Hulu\n",
       "Hulu                      \n",
       "1               111.842105"
      ]
     },
     "execution_count": 20,
     "metadata": {},
     "output_type": "execute_result"
    }
   ],
   "source": [
    "summaryHuluStatsDF = summaryHuluStatsDF.drop([0], axis =0)\n",
    "summaryHuluStatsDF"
   ]
  },
  {
   "cell_type": "code",
   "execution_count": 21,
   "id": "89bec5d6",
   "metadata": {
    "scrolled": true
   },
   "outputs": [
    {
     "data": {
      "text/plain": [
       "Prime Video\n",
       "0    110.060797\n",
       "1    108.678571\n",
       "Name: Runtime, dtype: float64"
      ]
     },
     "execution_count": 21,
     "metadata": {},
     "output_type": "execute_result"
    }
   ],
   "source": [
    "groupbyMeanPrime = df.groupby([\"Prime Video\"])[\"Runtime\"].mean()\n",
    "groupbyMeanPrime"
   ]
  },
  {
   "cell_type": "code",
   "execution_count": 22,
   "id": "bd54b6b6",
   "metadata": {
    "scrolled": true
   },
   "outputs": [
    {
     "data": {
      "text/html": [
       "<div>\n",
       "<style scoped>\n",
       "    .dataframe tbody tr th:only-of-type {\n",
       "        vertical-align: middle;\n",
       "    }\n",
       "\n",
       "    .dataframe tbody tr th {\n",
       "        vertical-align: top;\n",
       "    }\n",
       "\n",
       "    .dataframe thead th {\n",
       "        text-align: right;\n",
       "    }\n",
       "</style>\n",
       "<table border=\"1\" class=\"dataframe\">\n",
       "  <thead>\n",
       "    <tr style=\"text-align: right;\">\n",
       "      <th></th>\n",
       "      <th>Runtime Average Prime Video</th>\n",
       "    </tr>\n",
       "    <tr>\n",
       "      <th>Prime Video</th>\n",
       "      <th></th>\n",
       "    </tr>\n",
       "  </thead>\n",
       "  <tbody>\n",
       "    <tr>\n",
       "      <th>0</th>\n",
       "      <td>110.060797</td>\n",
       "    </tr>\n",
       "    <tr>\n",
       "      <th>1</th>\n",
       "      <td>108.678571</td>\n",
       "    </tr>\n",
       "  </tbody>\n",
       "</table>\n",
       "</div>"
      ],
      "text/plain": [
       "             Runtime Average Prime Video\n",
       "Prime Video                             \n",
       "0                             110.060797\n",
       "1                             108.678571"
      ]
     },
     "execution_count": 22,
     "metadata": {},
     "output_type": "execute_result"
    }
   ],
   "source": [
    "summaryPrimeStats = {\"Runtime Average Prime Video\": groupbyMeanPrime}\n",
    "summaryPrimeStatsDF = pd.DataFrame(summaryPrimeStats)\n",
    "summaryPrimeStatsDF.head(2)"
   ]
  },
  {
   "cell_type": "code",
   "execution_count": 23,
   "id": "26ba6cdf",
   "metadata": {},
   "outputs": [
    {
     "data": {
      "text/html": [
       "<div>\n",
       "<style scoped>\n",
       "    .dataframe tbody tr th:only-of-type {\n",
       "        vertical-align: middle;\n",
       "    }\n",
       "\n",
       "    .dataframe tbody tr th {\n",
       "        vertical-align: top;\n",
       "    }\n",
       "\n",
       "    .dataframe thead th {\n",
       "        text-align: right;\n",
       "    }\n",
       "</style>\n",
       "<table border=\"1\" class=\"dataframe\">\n",
       "  <thead>\n",
       "    <tr style=\"text-align: right;\">\n",
       "      <th></th>\n",
       "      <th>Runtime Average Prime Video</th>\n",
       "    </tr>\n",
       "    <tr>\n",
       "      <th>Prime Video</th>\n",
       "      <th></th>\n",
       "    </tr>\n",
       "  </thead>\n",
       "  <tbody>\n",
       "    <tr>\n",
       "      <th>1</th>\n",
       "      <td>108.678571</td>\n",
       "    </tr>\n",
       "  </tbody>\n",
       "</table>\n",
       "</div>"
      ],
      "text/plain": [
       "             Runtime Average Prime Video\n",
       "Prime Video                             \n",
       "1                             108.678571"
      ]
     },
     "execution_count": 23,
     "metadata": {},
     "output_type": "execute_result"
    }
   ],
   "source": [
    "summaryPrimeStatsDF = summaryPrimeStatsDF.drop([0], axis =0)\n",
    "summaryPrimeStatsDF"
   ]
  },
  {
   "cell_type": "code",
   "execution_count": 24,
   "id": "58d8e33e",
   "metadata": {
    "scrolled": false
   },
   "outputs": [
    {
     "data": {
      "text/plain": [
       "Disney+\n",
       "0    109.996024\n",
       "1    107.000000\n",
       "Name: Runtime, dtype: float64"
      ]
     },
     "execution_count": 24,
     "metadata": {},
     "output_type": "execute_result"
    }
   ],
   "source": [
    "groupbyMeanDisney = df.groupby([\"Disney+\"])[\"Runtime\"].mean()\n",
    "groupbyMeanDisney"
   ]
  },
  {
   "cell_type": "code",
   "execution_count": 25,
   "id": "ca258414",
   "metadata": {
    "scrolled": true
   },
   "outputs": [
    {
     "data": {
      "text/html": [
       "<div>\n",
       "<style scoped>\n",
       "    .dataframe tbody tr th:only-of-type {\n",
       "        vertical-align: middle;\n",
       "    }\n",
       "\n",
       "    .dataframe tbody tr th {\n",
       "        vertical-align: top;\n",
       "    }\n",
       "\n",
       "    .dataframe thead th {\n",
       "        text-align: right;\n",
       "    }\n",
       "</style>\n",
       "<table border=\"1\" class=\"dataframe\">\n",
       "  <thead>\n",
       "    <tr style=\"text-align: right;\">\n",
       "      <th></th>\n",
       "      <th>Runtime Average Disney</th>\n",
       "    </tr>\n",
       "    <tr>\n",
       "      <th>Disney+</th>\n",
       "      <th></th>\n",
       "    </tr>\n",
       "  </thead>\n",
       "  <tbody>\n",
       "    <tr>\n",
       "      <th>0</th>\n",
       "      <td>109.996024</td>\n",
       "    </tr>\n",
       "    <tr>\n",
       "      <th>1</th>\n",
       "      <td>107.000000</td>\n",
       "    </tr>\n",
       "  </tbody>\n",
       "</table>\n",
       "</div>"
      ],
      "text/plain": [
       "         Runtime Average Disney\n",
       "Disney+                        \n",
       "0                    109.996024\n",
       "1                    107.000000"
      ]
     },
     "execution_count": 25,
     "metadata": {},
     "output_type": "execute_result"
    }
   ],
   "source": [
    "summaryDisneyStats = {\"Runtime Average Disney\": groupbyMeanDisney}\n",
    "summaryDisneyStatsDF = pd.DataFrame(summaryDisneyStats)\n",
    "summaryDisneyStatsDF.head(2)"
   ]
  },
  {
   "cell_type": "code",
   "execution_count": 26,
   "id": "53506185",
   "metadata": {},
   "outputs": [
    {
     "data": {
      "text/html": [
       "<div>\n",
       "<style scoped>\n",
       "    .dataframe tbody tr th:only-of-type {\n",
       "        vertical-align: middle;\n",
       "    }\n",
       "\n",
       "    .dataframe tbody tr th {\n",
       "        vertical-align: top;\n",
       "    }\n",
       "\n",
       "    .dataframe thead th {\n",
       "        text-align: right;\n",
       "    }\n",
       "</style>\n",
       "<table border=\"1\" class=\"dataframe\">\n",
       "  <thead>\n",
       "    <tr style=\"text-align: right;\">\n",
       "      <th></th>\n",
       "      <th>Runtime Average Disney</th>\n",
       "    </tr>\n",
       "    <tr>\n",
       "      <th>Disney+</th>\n",
       "      <th></th>\n",
       "    </tr>\n",
       "  </thead>\n",
       "  <tbody>\n",
       "    <tr>\n",
       "      <th>1</th>\n",
       "      <td>107.0</td>\n",
       "    </tr>\n",
       "  </tbody>\n",
       "</table>\n",
       "</div>"
      ],
      "text/plain": [
       "         Runtime Average Disney\n",
       "Disney+                        \n",
       "1                         107.0"
      ]
     },
     "execution_count": 26,
     "metadata": {},
     "output_type": "execute_result"
    }
   ],
   "source": [
    "summaryDisneyStatsDF = summaryDisneyStatsDF.drop([0], axis =0)\n",
    "summaryDisneyStatsDF"
   ]
  },
  {
   "cell_type": "code",
   "execution_count": 27,
   "id": "aa40ffc9",
   "metadata": {},
   "outputs": [
    {
     "data": {
      "text/html": [
       "<div>\n",
       "<style scoped>\n",
       "    .dataframe tbody tr th:only-of-type {\n",
       "        vertical-align: middle;\n",
       "    }\n",
       "\n",
       "    .dataframe tbody tr th {\n",
       "        vertical-align: top;\n",
       "    }\n",
       "\n",
       "    .dataframe thead th {\n",
       "        text-align: right;\n",
       "    }\n",
       "</style>\n",
       "<table border=\"1\" class=\"dataframe\">\n",
       "  <thead>\n",
       "    <tr style=\"text-align: right;\">\n",
       "      <th></th>\n",
       "      <th>Runtime Average Netflix</th>\n",
       "    </tr>\n",
       "    <tr>\n",
       "      <th>Netflix</th>\n",
       "      <th></th>\n",
       "    </tr>\n",
       "  </thead>\n",
       "  <tbody>\n",
       "    <tr>\n",
       "      <th>1</th>\n",
       "      <td>109.984158</td>\n",
       "    </tr>\n",
       "  </tbody>\n",
       "</table>\n",
       "</div>"
      ],
      "text/plain": [
       "         Runtime Average Netflix\n",
       "Netflix                         \n",
       "1                     109.984158"
      ]
     },
     "execution_count": 27,
     "metadata": {},
     "output_type": "execute_result"
    }
   ],
   "source": [
    "# merge all the summary stats per platform\n",
    "resetNetflixIndex = summaryNetflixStatsDF.rename(index={'Netflix': ''})\n",
    "resetNetflixIndex"
   ]
  },
  {
   "cell_type": "code",
   "execution_count": 28,
   "id": "c7ffda4a",
   "metadata": {},
   "outputs": [
    {
     "data": {
      "text/html": [
       "<div>\n",
       "<style scoped>\n",
       "    .dataframe tbody tr th:only-of-type {\n",
       "        vertical-align: middle;\n",
       "    }\n",
       "\n",
       "    .dataframe tbody tr th {\n",
       "        vertical-align: top;\n",
       "    }\n",
       "\n",
       "    .dataframe thead th {\n",
       "        text-align: right;\n",
       "    }\n",
       "</style>\n",
       "<table border=\"1\" class=\"dataframe\">\n",
       "  <thead>\n",
       "    <tr style=\"text-align: right;\">\n",
       "      <th></th>\n",
       "      <th>Runtime Average Netflix</th>\n",
       "      <th>Runtime Average Hulu</th>\n",
       "    </tr>\n",
       "    <tr>\n",
       "      <th>Netflix</th>\n",
       "      <th></th>\n",
       "      <th></th>\n",
       "    </tr>\n",
       "  </thead>\n",
       "  <tbody>\n",
       "    <tr>\n",
       "      <th>1</th>\n",
       "      <td>109.984158</td>\n",
       "      <td>111.842105</td>\n",
       "    </tr>\n",
       "  </tbody>\n",
       "</table>\n",
       "</div>"
      ],
      "text/plain": [
       "         Runtime Average Netflix  Runtime Average Hulu\n",
       "Netflix                                               \n",
       "1                     109.984158            111.842105"
      ]
     },
     "execution_count": 28,
     "metadata": {},
     "output_type": "execute_result"
    }
   ],
   "source": [
    "mergeNHDF = summaryNetflixStatsDF.merge(summaryHuluStatsDF, left_on='Netflix', right_index = True)\n",
    "mergeNHDF"
   ]
  },
  {
   "cell_type": "code",
   "execution_count": 29,
   "id": "14a7aac4",
   "metadata": {},
   "outputs": [
    {
     "data": {
      "text/html": [
       "<div>\n",
       "<style scoped>\n",
       "    .dataframe tbody tr th:only-of-type {\n",
       "        vertical-align: middle;\n",
       "    }\n",
       "\n",
       "    .dataframe tbody tr th {\n",
       "        vertical-align: top;\n",
       "    }\n",
       "\n",
       "    .dataframe thead th {\n",
       "        text-align: right;\n",
       "    }\n",
       "</style>\n",
       "<table border=\"1\" class=\"dataframe\">\n",
       "  <thead>\n",
       "    <tr style=\"text-align: right;\">\n",
       "      <th></th>\n",
       "      <th>Runtime Average Netflix</th>\n",
       "      <th>Runtime Average Hulu</th>\n",
       "      <th>Runtime Average Prime Video</th>\n",
       "    </tr>\n",
       "    <tr>\n",
       "      <th>Netflix</th>\n",
       "      <th></th>\n",
       "      <th></th>\n",
       "      <th></th>\n",
       "    </tr>\n",
       "  </thead>\n",
       "  <tbody>\n",
       "    <tr>\n",
       "      <th>1</th>\n",
       "      <td>109.984158</td>\n",
       "      <td>111.842105</td>\n",
       "      <td>108.678571</td>\n",
       "    </tr>\n",
       "  </tbody>\n",
       "</table>\n",
       "</div>"
      ],
      "text/plain": [
       "         Runtime Average Netflix  Runtime Average Hulu  \\\n",
       "Netflix                                                  \n",
       "1                     109.984158            111.842105   \n",
       "\n",
       "         Runtime Average Prime Video  \n",
       "Netflix                               \n",
       "1                         108.678571  "
      ]
     },
     "execution_count": 29,
     "metadata": {},
     "output_type": "execute_result"
    }
   ],
   "source": [
    "mergeNHPDF = mergeNHDF.merge(summaryPrimeStatsDF, left_on ='Netflix', right_index = True)\n",
    "mergeNHPDF"
   ]
  },
  {
   "cell_type": "code",
   "execution_count": 30,
   "id": "833019bb",
   "metadata": {
    "scrolled": true
   },
   "outputs": [
    {
     "data": {
      "text/html": [
       "<div>\n",
       "<style scoped>\n",
       "    .dataframe tbody tr th:only-of-type {\n",
       "        vertical-align: middle;\n",
       "    }\n",
       "\n",
       "    .dataframe tbody tr th {\n",
       "        vertical-align: top;\n",
       "    }\n",
       "\n",
       "    .dataframe thead th {\n",
       "        text-align: right;\n",
       "    }\n",
       "</style>\n",
       "<table border=\"1\" class=\"dataframe\">\n",
       "  <thead>\n",
       "    <tr style=\"text-align: right;\">\n",
       "      <th></th>\n",
       "      <th>Runtime Average Netflix</th>\n",
       "      <th>Runtime Average Hulu</th>\n",
       "      <th>Runtime Average Prime Video</th>\n",
       "      <th>Runtime Average Disney</th>\n",
       "    </tr>\n",
       "    <tr>\n",
       "      <th>Netflix</th>\n",
       "      <th></th>\n",
       "      <th></th>\n",
       "      <th></th>\n",
       "      <th></th>\n",
       "    </tr>\n",
       "  </thead>\n",
       "  <tbody>\n",
       "    <tr>\n",
       "      <th>1</th>\n",
       "      <td>109.984158</td>\n",
       "      <td>111.842105</td>\n",
       "      <td>108.678571</td>\n",
       "      <td>107.0</td>\n",
       "    </tr>\n",
       "  </tbody>\n",
       "</table>\n",
       "</div>"
      ],
      "text/plain": [
       "         Runtime Average Netflix  Runtime Average Hulu  \\\n",
       "Netflix                                                  \n",
       "1                     109.984158            111.842105   \n",
       "\n",
       "         Runtime Average Prime Video  Runtime Average Disney  \n",
       "Netflix                                                       \n",
       "1                         108.678571                   107.0  "
      ]
     },
     "execution_count": 30,
     "metadata": {},
     "output_type": "execute_result"
    }
   ],
   "source": [
    "mergeAllDF = mergeNHPDF.merge(summaryDisneyStatsDF, left_on ='Netflix', right_index = True)\n",
    "mergeAllDF"
   ]
  },
  {
   "cell_type": "code",
   "execution_count": 31,
   "id": "437b9318",
   "metadata": {
    "scrolled": false
   },
   "outputs": [
    {
     "data": {
      "text/html": [
       "<div>\n",
       "<style scoped>\n",
       "    .dataframe tbody tr th:only-of-type {\n",
       "        vertical-align: middle;\n",
       "    }\n",
       "\n",
       "    .dataframe tbody tr th {\n",
       "        vertical-align: top;\n",
       "    }\n",
       "\n",
       "    .dataframe thead th {\n",
       "        text-align: right;\n",
       "    }\n",
       "</style>\n",
       "<table border=\"1\" class=\"dataframe\">\n",
       "  <thead>\n",
       "    <tr style=\"text-align: right;\">\n",
       "      <th></th>\n",
       "      <th>Runtime Average Netflix</th>\n",
       "      <th>Runtime Average Hulu</th>\n",
       "      <th>Runtime Average Prime Video</th>\n",
       "      <th>Runtime Average Disney</th>\n",
       "    </tr>\n",
       "  </thead>\n",
       "  <tbody>\n",
       "    <tr>\n",
       "      <th>1</th>\n",
       "      <td>109.984158</td>\n",
       "      <td>111.842105</td>\n",
       "      <td>108.678571</td>\n",
       "      <td>107.0</td>\n",
       "    </tr>\n",
       "  </tbody>\n",
       "</table>\n",
       "</div>"
      ],
      "text/plain": [
       "   Runtime Average Netflix  Runtime Average Hulu  Runtime Average Prime Video  \\\n",
       "1               109.984158            111.842105                   108.678571   \n",
       "\n",
       "   Runtime Average Disney  \n",
       "1                   107.0  "
      ]
     },
     "execution_count": 31,
     "metadata": {},
     "output_type": "execute_result"
    }
   ],
   "source": [
    "mergeAllDF.index.name = None\n",
    "mergeAllDF"
   ]
  },
  {
   "cell_type": "code",
   "execution_count": 32,
   "id": "fec28026",
   "metadata": {},
   "outputs": [],
   "source": [
    "platformList = ['Netflix', 'Hulu', 'Prime Video', 'Disney+']\n",
    "x_axis = np.arange(len(platformList))"
   ]
  },
  {
   "cell_type": "code",
   "execution_count": 33,
   "id": "91f82709",
   "metadata": {
    "scrolled": true
   },
   "outputs": [
    {
     "data": {
      "text/plain": [
       "Runtime Average Netflix        109.984158\n",
       "Runtime Average Hulu           111.842105\n",
       "Runtime Average Prime Video    108.678571\n",
       "Runtime Average Disney         107.000000\n",
       "Name: 1, dtype: float64"
      ]
     },
     "execution_count": 33,
     "metadata": {},
     "output_type": "execute_result"
    }
   ],
   "source": [
    "# list of mergeAllDF average runtimes by platform\n",
    "runtime = mergeAllDF.squeeze()\n",
    "runtime"
   ]
  },
  {
   "cell_type": "code",
   "execution_count": 34,
   "id": "e930e675",
   "metadata": {
    "scrolled": true
   },
   "outputs": [
    {
     "data": {
      "text/plain": [
       "Text(23.875, 0.5, 'Average Movie Runtime (min)')"
      ]
     },
     "execution_count": 34,
     "metadata": {},
     "output_type": "execute_result"
    },
    {
     "data": {
      "image/png": "[encoded data removed]",
      "text/plain": [
       "<Figure size 432x288 with 1 Axes>"
      ]
     },
     "metadata": {
      "needs_background": "light"
     },
     "output_type": "display_data"
    }
   ],
   "source": [
    "# Tell matplotlib that we will be making a bar chart\n",
    "# Users is our y axis and x_axis is, of course, our x axis\n",
    "# We apply align=\"edge\" to ensure our bars line up with our tick marks\n",
    "\n",
    "# Create ticks for our bar chart's x-values\n",
    "tick_locations=[value for value in x_axis]\n",
    "plt.xticks(tick_locations, platformList)\n",
    "\n",
    "# plot bar chart\n",
    "plt.bar(x_axis, runtime, color= ['red', 'mediumseagreen', 'deepskyblue', 'mediumblue'], align=\"center\", width = 0.7)\n",
    "plt.tight_layout()\n",
    "\n",
    "# Give our chart some labels and a tile\n",
    "plt.title(\"Movie Runtime Averages Across Streaming Platforms\")\n",
    "plt.xlabel(\"Streaming Platform\")\n",
    "plt.ylabel(\"Average Movie Runtime (min)\")"
   ]
  },
  {
   "cell_type": "code",
   "execution_count": 36,
   "id": "f3bf3bdd",
   "metadata": {},
   "outputs": [
    {
     "data": {
      "text/html": [
       "<div>\n",
       "<style scoped>\n",
       "    .dataframe tbody tr th:only-of-type {\n",
       "        vertical-align: middle;\n",
       "    }\n",
       "\n",
       "    .dataframe tbody tr th {\n",
       "        vertical-align: top;\n",
       "    }\n",
       "\n",
       "    .dataframe thead th {\n",
       "        text-align: right;\n",
       "    }\n",
       "</style>\n",
       "<table border=\"1\" class=\"dataframe\">\n",
       "  <thead>\n",
       "    <tr style=\"text-align: right;\">\n",
       "      <th></th>\n",
       "      <th>Metascore Average Netflix</th>\n",
       "    </tr>\n",
       "    <tr>\n",
       "      <th>Netflix</th>\n",
       "      <th></th>\n",
       "    </tr>\n",
       "  </thead>\n",
       "  <tbody>\n",
       "    <tr>\n",
       "      <th>1</th>\n",
       "      <td>60.417822</td>\n",
       "    </tr>\n",
       "  </tbody>\n",
       "</table>\n",
       "</div>"
      ],
      "text/plain": [
       "         Metascore Average Netflix\n",
       "Netflix                           \n",
       "1                        60.417822"
      ]
     },
     "execution_count": 36,
     "metadata": {},
     "output_type": "execute_result"
    }
   ],
   "source": [
    "groupbyMeanMetascoreNetflix = df.groupby([\"Netflix\"])[\"Metascore\"].mean()\n",
    "summaryNetflixMetascoreStats = {\"Metascore Average Netflix\": groupbyMeanMetascoreNetflix}\n",
    "summaryNetflixMetascoreStats = pd.DataFrame(summaryNetflixMetascoreStats)\n",
    "summaryNetflixMetascoreStats.head()"
   ]
  },
  {
   "cell_type": "code",
   "execution_count": 37,
   "id": "4477cb0f",
   "metadata": {},
   "outputs": [
    {
     "data": {
      "text/html": [
       "<div>\n",
       "<style scoped>\n",
       "    .dataframe tbody tr th:only-of-type {\n",
       "        vertical-align: middle;\n",
       "    }\n",
       "\n",
       "    .dataframe tbody tr th {\n",
       "        vertical-align: top;\n",
       "    }\n",
       "\n",
       "    .dataframe thead th {\n",
       "        text-align: right;\n",
       "    }\n",
       "</style>\n",
       "<table border=\"1\" class=\"dataframe\">\n",
       "  <thead>\n",
       "    <tr style=\"text-align: right;\">\n",
       "      <th></th>\n",
       "      <th>Imdb Average Netflix</th>\n",
       "    </tr>\n",
       "    <tr>\n",
       "      <th>Netflix</th>\n",
       "      <th></th>\n",
       "    </tr>\n",
       "  </thead>\n",
       "  <tbody>\n",
       "    <tr>\n",
       "      <th>1</th>\n",
       "      <td>6.755446</td>\n",
       "    </tr>\n",
       "  </tbody>\n",
       "</table>\n",
       "</div>"
      ],
      "text/plain": [
       "         Imdb Average Netflix\n",
       "Netflix                      \n",
       "1                    6.755446"
      ]
     },
     "execution_count": 37,
     "metadata": {},
     "output_type": "execute_result"
    }
   ],
   "source": [
    "groupbyMeanImdbNetflix = df.groupby([\"Netflix\"])[\"Imdb\"].mean()\n",
    "summaryNetflixImdbStats = {\"Imdb Average Netflix\": groupbyMeanImdbNetflix}\n",
    "summaryNetflixImdbStats = pd.DataFrame(summaryNetflixImdbStats)\n",
    "summaryNetflixImdbStats.head()"
   ]
  },
  {
   "cell_type": "code",
   "execution_count": 40,
   "id": "5b295690",
   "metadata": {
    "scrolled": true
   },
   "outputs": [
    {
     "name": "stderr",
     "output_type": "stream",
     "text": [
      "C:\\Users\\kimbe\\AppData\\Local\\Temp\\ipykernel_70200\\1279507264.py:1: SettingWithCopyWarning: \n",
      "A value is trying to be set on a copy of a slice from a DataFrame.\n",
      "Try using .loc[row_indexer,col_indexer] = value instead\n",
      "\n",
      "See the caveats in the documentation: https://pandas.pydata.org/pandas-docs/stable/user_guide/indexing.html#returning-a-view-versus-a-copy\n",
      "  df['Rotten Tomatoes']=df['Rotten Tomatoes'].str.rstrip(\"%\")\n",
      "C:\\Users\\kimbe\\AppData\\Local\\Temp\\ipykernel_70200\\1279507264.py:2: SettingWithCopyWarning: \n",
      "A value is trying to be set on a copy of a slice from a DataFrame.\n",
      "Try using .loc[row_indexer,col_indexer] = value instead\n",
      "\n",
      "See the caveats in the documentation: https://pandas.pydata.org/pandas-docs/stable/user_guide/indexing.html#returning-a-view-versus-a-copy\n",
      "  df['Rotten Tomatoes']=df['Rotten Tomatoes'].str.replace('/100',\"\")\n"
     ]
    }
   ],
   "source": [
    "df['Rotten Tomatoes']=df['Rotten Tomatoes'].str.rstrip(\"%\")\n",
    "df['Rotten Tomatoes']=df['Rotten Tomatoes'].str.replace('/100',\"\")"
   ]
  },
  {
   "cell_type": "code",
   "execution_count": 41,
   "id": "5fb29bd0",
   "metadata": {},
   "outputs": [
    {
     "name": "stderr",
     "output_type": "stream",
     "text": [
      "C:\\Users\\kimbe\\AppData\\Local\\Temp\\ipykernel_70200\\2314553594.py:1: SettingWithCopyWarning: \n",
      "A value is trying to be set on a copy of a slice from a DataFrame.\n",
      "Try using .loc[row_indexer,col_indexer] = value instead\n",
      "\n",
      "See the caveats in the documentation: https://pandas.pydata.org/pandas-docs/stable/user_guide/indexing.html#returning-a-view-versus-a-copy\n",
      "  df[\"Rotten Tomatoes\"] = df['Rotten Tomatoes'].astype(float)\n"
     ]
    },
    {
     "data": {
      "text/plain": [
       "0      95.0\n",
       "2      96.0\n",
       "3      95.0\n",
       "4      96.0\n",
       "5      96.0\n",
       "       ... \n",
       "787    22.0\n",
       "788    54.0\n",
       "790    60.0\n",
       "791    69.0\n",
       "797    75.0\n",
       "Name: Rotten Tomatoes, Length: 505, dtype: float64"
      ]
     },
     "execution_count": 41,
     "metadata": {},
     "output_type": "execute_result"
    }
   ],
   "source": [
    "df[\"Rotten Tomatoes\"] = df['Rotten Tomatoes'].astype(float)\n",
    "df[\"Rotten Tomatoes\"]"
   ]
  },
  {
   "cell_type": "code",
   "execution_count": 42,
   "id": "3a95e538",
   "metadata": {},
   "outputs": [
    {
     "data": {
      "text/html": [
       "<div>\n",
       "<style scoped>\n",
       "    .dataframe tbody tr th:only-of-type {\n",
       "        vertical-align: middle;\n",
       "    }\n",
       "\n",
       "    .dataframe tbody tr th {\n",
       "        vertical-align: top;\n",
       "    }\n",
       "\n",
       "    .dataframe thead th {\n",
       "        text-align: right;\n",
       "    }\n",
       "</style>\n",
       "<table border=\"1\" class=\"dataframe\">\n",
       "  <thead>\n",
       "    <tr style=\"text-align: right;\">\n",
       "      <th></th>\n",
       "      <th>Rotten Tomatoes Average Netflix</th>\n",
       "    </tr>\n",
       "    <tr>\n",
       "      <th>Netflix</th>\n",
       "      <th></th>\n",
       "    </tr>\n",
       "  </thead>\n",
       "  <tbody>\n",
       "    <tr>\n",
       "      <th>1</th>\n",
       "      <td>67.146535</td>\n",
       "    </tr>\n",
       "  </tbody>\n",
       "</table>\n",
       "</div>"
      ],
      "text/plain": [
       "         Rotten Tomatoes Average Netflix\n",
       "Netflix                                 \n",
       "1                              67.146535"
      ]
     },
     "execution_count": 42,
     "metadata": {},
     "output_type": "execute_result"
    }
   ],
   "source": [
    "groupbyMeanRottenTomatoesNetflix = df.groupby([\"Netflix\"])[\"Rotten Tomatoes\"].mean()\n",
    "summaryNetflixRottenTomatoesStats = {\"Rotten Tomatoes Average Netflix\": groupbyMeanRottenTomatoesNetflix}\n",
    "summaryNetflixRottenTomatoesStats = pd.DataFrame(summaryNetflixRottenTomatoesStats)\n",
    "summaryNetflixRottenTomatoesStats.head()"
   ]
  },
  {
   "cell_type": "code",
   "execution_count": null,
   "id": "191fb9e4",
   "metadata": {},
   "outputs": [],
   "source": [
    "df.head()"
   ]
  },
  {
   "cell_type": "code",
   "execution_count": 43,
   "id": "2c8ebb71",
   "metadata": {
    "scrolled": true
   },
   "outputs": [
    {
     "data": {
      "text/html": [
       "<div>\n",
       "<style scoped>\n",
       "    .dataframe tbody tr th:only-of-type {\n",
       "        vertical-align: middle;\n",
       "    }\n",
       "\n",
       "    .dataframe tbody tr th {\n",
       "        vertical-align: top;\n",
       "    }\n",
       "\n",
       "    .dataframe thead th {\n",
       "        text-align: right;\n",
       "    }\n",
       "</style>\n",
       "<table border=\"1\" class=\"dataframe\">\n",
       "  <thead>\n",
       "    <tr style=\"text-align: right;\">\n",
       "      <th></th>\n",
       "      <th>Metascore Average Hulu</th>\n",
       "    </tr>\n",
       "    <tr>\n",
       "      <th>Hulu</th>\n",
       "      <th></th>\n",
       "    </tr>\n",
       "  </thead>\n",
       "  <tbody>\n",
       "    <tr>\n",
       "      <th>0</th>\n",
       "      <td>60.465021</td>\n",
       "    </tr>\n",
       "    <tr>\n",
       "      <th>1</th>\n",
       "      <td>59.210526</td>\n",
       "    </tr>\n",
       "  </tbody>\n",
       "</table>\n",
       "</div>"
      ],
      "text/plain": [
       "      Metascore Average Hulu\n",
       "Hulu                        \n",
       "0                  60.465021\n",
       "1                  59.210526"
      ]
     },
     "execution_count": 43,
     "metadata": {},
     "output_type": "execute_result"
    }
   ],
   "source": [
    "groupbyMeanMetascoreHulu = df.groupby([\"Hulu\"])[\"Metascore\"].mean()\n",
    "summaryHuluMetascoreStats = {\"Metascore Average Hulu\": groupbyMeanMetascoreHulu}\n",
    "summaryHuluMetascoreStats = pd.DataFrame(summaryHuluMetascoreStats)\n",
    "summaryHuluMetascoreStats.head()"
   ]
  },
  {
   "cell_type": "code",
   "execution_count": 44,
   "id": "2f8ef88c",
   "metadata": {},
   "outputs": [
    {
     "data": {
      "text/html": [
       "<div>\n",
       "<style scoped>\n",
       "    .dataframe tbody tr th:only-of-type {\n",
       "        vertical-align: middle;\n",
       "    }\n",
       "\n",
       "    .dataframe tbody tr th {\n",
       "        vertical-align: top;\n",
       "    }\n",
       "\n",
       "    .dataframe thead th {\n",
       "        text-align: right;\n",
       "    }\n",
       "</style>\n",
       "<table border=\"1\" class=\"dataframe\">\n",
       "  <thead>\n",
       "    <tr style=\"text-align: right;\">\n",
       "      <th></th>\n",
       "      <th>Metascore Average Hulu</th>\n",
       "    </tr>\n",
       "    <tr>\n",
       "      <th>Hulu</th>\n",
       "      <th></th>\n",
       "    </tr>\n",
       "  </thead>\n",
       "  <tbody>\n",
       "    <tr>\n",
       "      <th>1</th>\n",
       "      <td>59.210526</td>\n",
       "    </tr>\n",
       "  </tbody>\n",
       "</table>\n",
       "</div>"
      ],
      "text/plain": [
       "      Metascore Average Hulu\n",
       "Hulu                        \n",
       "1                  59.210526"
      ]
     },
     "execution_count": 44,
     "metadata": {},
     "output_type": "execute_result"
    }
   ],
   "source": [
    "summaryHuluMetascoreStats = summaryHuluMetascoreStats.drop([0], axis =0)\n",
    "summaryHuluMetascoreStats"
   ]
  },
  {
   "cell_type": "code",
   "execution_count": 46,
   "id": "c3acd8d8",
   "metadata": {
    "scrolled": true
   },
   "outputs": [
    {
     "data": {
      "text/html": [
       "<div>\n",
       "<style scoped>\n",
       "    .dataframe tbody tr th:only-of-type {\n",
       "        vertical-align: middle;\n",
       "    }\n",
       "\n",
       "    .dataframe tbody tr th {\n",
       "        vertical-align: top;\n",
       "    }\n",
       "\n",
       "    .dataframe thead th {\n",
       "        text-align: right;\n",
       "    }\n",
       "</style>\n",
       "<table border=\"1\" class=\"dataframe\">\n",
       "  <thead>\n",
       "    <tr style=\"text-align: right;\">\n",
       "      <th></th>\n",
       "      <th>Imdb Average Hulu</th>\n",
       "    </tr>\n",
       "    <tr>\n",
       "      <th>Hulu</th>\n",
       "      <th></th>\n",
       "    </tr>\n",
       "  </thead>\n",
       "  <tbody>\n",
       "    <tr>\n",
       "      <th>0</th>\n",
       "      <td>6.753704</td>\n",
       "    </tr>\n",
       "    <tr>\n",
       "      <th>1</th>\n",
       "      <td>6.800000</td>\n",
       "    </tr>\n",
       "  </tbody>\n",
       "</table>\n",
       "</div>"
      ],
      "text/plain": [
       "      Imdb Average Hulu\n",
       "Hulu                   \n",
       "0              6.753704\n",
       "1              6.800000"
      ]
     },
     "execution_count": 46,
     "metadata": {},
     "output_type": "execute_result"
    }
   ],
   "source": [
    "groupbyMeanImdbHulu = df.groupby([\"Hulu\"])[\"Imdb\"].mean()\n",
    "summaryHuluImdbStats = {\"Imdb Average Hulu\": groupbyMeanImdbHulu}\n",
    "summaryHuluImdbStats = pd.DataFrame(summaryHuluImdbStats)\n",
    "summaryHuluImdbStats.head()"
   ]
  },
  {
   "cell_type": "code",
   "execution_count": 47,
   "id": "09416f26",
   "metadata": {},
   "outputs": [
    {
     "data": {
      "text/html": [
       "<div>\n",
       "<style scoped>\n",
       "    .dataframe tbody tr th:only-of-type {\n",
       "        vertical-align: middle;\n",
       "    }\n",
       "\n",
       "    .dataframe tbody tr th {\n",
       "        vertical-align: top;\n",
       "    }\n",
       "\n",
       "    .dataframe thead th {\n",
       "        text-align: right;\n",
       "    }\n",
       "</style>\n",
       "<table border=\"1\" class=\"dataframe\">\n",
       "  <thead>\n",
       "    <tr style=\"text-align: right;\">\n",
       "      <th></th>\n",
       "      <th>Imdb Average Hulu</th>\n",
       "    </tr>\n",
       "    <tr>\n",
       "      <th>Hulu</th>\n",
       "      <th></th>\n",
       "    </tr>\n",
       "  </thead>\n",
       "  <tbody>\n",
       "    <tr>\n",
       "      <th>1</th>\n",
       "      <td>6.8</td>\n",
       "    </tr>\n",
       "  </tbody>\n",
       "</table>\n",
       "</div>"
      ],
      "text/plain": [
       "      Imdb Average Hulu\n",
       "Hulu                   \n",
       "1                   6.8"
      ]
     },
     "execution_count": 47,
     "metadata": {},
     "output_type": "execute_result"
    }
   ],
   "source": [
    "summaryHuluImdbStats = summaryHuluImdbStats.drop([0], axis =0)\n",
    "summaryHuluImdbStats"
   ]
  },
  {
   "cell_type": "code",
   "execution_count": 48,
   "id": "724e8064",
   "metadata": {},
   "outputs": [
    {
     "data": {
      "text/html": [
       "<div>\n",
       "<style scoped>\n",
       "    .dataframe tbody tr th:only-of-type {\n",
       "        vertical-align: middle;\n",
       "    }\n",
       "\n",
       "    .dataframe tbody tr th {\n",
       "        vertical-align: top;\n",
       "    }\n",
       "\n",
       "    .dataframe thead th {\n",
       "        text-align: right;\n",
       "    }\n",
       "</style>\n",
       "<table border=\"1\" class=\"dataframe\">\n",
       "  <thead>\n",
       "    <tr style=\"text-align: right;\">\n",
       "      <th></th>\n",
       "      <th>Rotten Tomatoes Average Hulu</th>\n",
       "    </tr>\n",
       "    <tr>\n",
       "      <th>Hulu</th>\n",
       "      <th></th>\n",
       "    </tr>\n",
       "  </thead>\n",
       "  <tbody>\n",
       "    <tr>\n",
       "      <th>0</th>\n",
       "      <td>67.458848</td>\n",
       "    </tr>\n",
       "    <tr>\n",
       "      <th>1</th>\n",
       "      <td>59.157895</td>\n",
       "    </tr>\n",
       "  </tbody>\n",
       "</table>\n",
       "</div>"
      ],
      "text/plain": [
       "      Rotten Tomatoes Average Hulu\n",
       "Hulu                              \n",
       "0                        67.458848\n",
       "1                        59.157895"
      ]
     },
     "execution_count": 48,
     "metadata": {},
     "output_type": "execute_result"
    }
   ],
   "source": [
    "groupbyMeanRottenTomatoesHulu = df.groupby([\"Hulu\"])[\"Rotten Tomatoes\"].mean()\n",
    "summaryHuluRottenTomatoesStats = {\"Rotten Tomatoes Average Hulu\": groupbyMeanRottenTomatoesHulu}\n",
    "summaryHuluRottenTomatoesStats = pd.DataFrame(summaryHuluRottenTomatoesStats)\n",
    "summaryHuluRottenTomatoesStats.head()"
   ]
  },
  {
   "cell_type": "code",
   "execution_count": 49,
   "id": "6b2d0c95",
   "metadata": {},
   "outputs": [
    {
     "data": {
      "text/html": [
       "<div>\n",
       "<style scoped>\n",
       "    .dataframe tbody tr th:only-of-type {\n",
       "        vertical-align: middle;\n",
       "    }\n",
       "\n",
       "    .dataframe tbody tr th {\n",
       "        vertical-align: top;\n",
       "    }\n",
       "\n",
       "    .dataframe thead th {\n",
       "        text-align: right;\n",
       "    }\n",
       "</style>\n",
       "<table border=\"1\" class=\"dataframe\">\n",
       "  <thead>\n",
       "    <tr style=\"text-align: right;\">\n",
       "      <th></th>\n",
       "      <th>Rotten Tomatoes Average Hulu</th>\n",
       "    </tr>\n",
       "    <tr>\n",
       "      <th>Hulu</th>\n",
       "      <th></th>\n",
       "    </tr>\n",
       "  </thead>\n",
       "  <tbody>\n",
       "    <tr>\n",
       "      <th>1</th>\n",
       "      <td>59.157895</td>\n",
       "    </tr>\n",
       "  </tbody>\n",
       "</table>\n",
       "</div>"
      ],
      "text/plain": [
       "      Rotten Tomatoes Average Hulu\n",
       "Hulu                              \n",
       "1                        59.157895"
      ]
     },
     "execution_count": 49,
     "metadata": {},
     "output_type": "execute_result"
    }
   ],
   "source": [
    "summaryHuluRottenTomatoesStats = summaryHuluRottenTomatoesStats.drop([0], axis =0)\n",
    "summaryHuluRottenTomatoesStats"
   ]
  },
  {
   "cell_type": "code",
   "execution_count": 56,
   "id": "893c467b",
   "metadata": {},
   "outputs": [
    {
     "data": {
      "text/html": [
       "<div>\n",
       "<style scoped>\n",
       "    .dataframe tbody tr th:only-of-type {\n",
       "        vertical-align: middle;\n",
       "    }\n",
       "\n",
       "    .dataframe tbody tr th {\n",
       "        vertical-align: top;\n",
       "    }\n",
       "\n",
       "    .dataframe thead th {\n",
       "        text-align: right;\n",
       "    }\n",
       "</style>\n",
       "<table border=\"1\" class=\"dataframe\">\n",
       "  <thead>\n",
       "    <tr style=\"text-align: right;\">\n",
       "      <th></th>\n",
       "      <th>Metascore Average Prime Video</th>\n",
       "    </tr>\n",
       "    <tr>\n",
       "      <th>Prime Video</th>\n",
       "      <th></th>\n",
       "    </tr>\n",
       "  </thead>\n",
       "  <tbody>\n",
       "    <tr>\n",
       "      <th>0</th>\n",
       "      <td>61.064990</td>\n",
       "    </tr>\n",
       "    <tr>\n",
       "      <th>1</th>\n",
       "      <td>49.392857</td>\n",
       "    </tr>\n",
       "  </tbody>\n",
       "</table>\n",
       "</div>"
      ],
      "text/plain": [
       "             Metascore Average Prime Video\n",
       "Prime Video                               \n",
       "0                                61.064990\n",
       "1                                49.392857"
      ]
     },
     "execution_count": 56,
     "metadata": {},
     "output_type": "execute_result"
    }
   ],
   "source": [
    "groupbyMeanMetascorePrimeVideo = df.groupby([\"Prime Video\"])[\"Metascore\"].mean()\n",
    "summaryPrimeVideoMetascoreStats = {\"Metascore Average Prime Video\": groupbyMeanMetascorePrimeVideo}\n",
    "summaryPrimeVideoMetascoreStats = pd.DataFrame(summaryPrimeVideoMetascoreStats)\n",
    "summaryPrimeVideoMetascoreStats.head()"
   ]
  },
  {
   "cell_type": "code",
   "execution_count": 58,
   "id": "dafc0597",
   "metadata": {
    "scrolled": true
   },
   "outputs": [
    {
     "data": {
      "text/html": [
       "<div>\n",
       "<style scoped>\n",
       "    .dataframe tbody tr th:only-of-type {\n",
       "        vertical-align: middle;\n",
       "    }\n",
       "\n",
       "    .dataframe tbody tr th {\n",
       "        vertical-align: top;\n",
       "    }\n",
       "\n",
       "    .dataframe thead th {\n",
       "        text-align: right;\n",
       "    }\n",
       "</style>\n",
       "<table border=\"1\" class=\"dataframe\">\n",
       "  <thead>\n",
       "    <tr style=\"text-align: right;\">\n",
       "      <th></th>\n",
       "      <th>Metascore Average Prime Video</th>\n",
       "    </tr>\n",
       "    <tr>\n",
       "      <th>Prime Video</th>\n",
       "      <th></th>\n",
       "    </tr>\n",
       "  </thead>\n",
       "  <tbody>\n",
       "    <tr>\n",
       "      <th>1</th>\n",
       "      <td>49.392857</td>\n",
       "    </tr>\n",
       "  </tbody>\n",
       "</table>\n",
       "</div>"
      ],
      "text/plain": [
       "             Metascore Average Prime Video\n",
       "Prime Video                               \n",
       "1                                49.392857"
      ]
     },
     "execution_count": 58,
     "metadata": {},
     "output_type": "execute_result"
    }
   ],
   "source": [
    "summaryPrimeVideoMetascoreStats = summaryPrimeVideoMetascoreStats.drop([0], axis =0)\n",
    "summaryPrimeVideoMetascoreStats"
   ]
  },
  {
   "cell_type": "code",
   "execution_count": 61,
   "id": "387798af",
   "metadata": {},
   "outputs": [
    {
     "data": {
      "text/html": [
       "<div>\n",
       "<style scoped>\n",
       "    .dataframe tbody tr th:only-of-type {\n",
       "        vertical-align: middle;\n",
       "    }\n",
       "\n",
       "    .dataframe tbody tr th {\n",
       "        vertical-align: top;\n",
       "    }\n",
       "\n",
       "    .dataframe thead th {\n",
       "        text-align: right;\n",
       "    }\n",
       "</style>\n",
       "<table border=\"1\" class=\"dataframe\">\n",
       "  <thead>\n",
       "    <tr style=\"text-align: right;\">\n",
       "      <th></th>\n",
       "      <th>Imdb Average Prime Video</th>\n",
       "    </tr>\n",
       "    <tr>\n",
       "      <th>Prime Video</th>\n",
       "      <th></th>\n",
       "    </tr>\n",
       "  </thead>\n",
       "  <tbody>\n",
       "    <tr>\n",
       "      <th>0</th>\n",
       "      <td>6.772117</td>\n",
       "    </tr>\n",
       "    <tr>\n",
       "      <th>1</th>\n",
       "      <td>6.471429</td>\n",
       "    </tr>\n",
       "  </tbody>\n",
       "</table>\n",
       "</div>"
      ],
      "text/plain": [
       "             Imdb Average Prime Video\n",
       "Prime Video                          \n",
       "0                            6.772117\n",
       "1                            6.471429"
      ]
     },
     "execution_count": 61,
     "metadata": {},
     "output_type": "execute_result"
    }
   ],
   "source": [
    "groupbyMeanImdbPrimeVideo = df.groupby([\"Prime Video\"])[\"Imdb\"].mean()\n",
    "summaryPrimeVideoImdbStats = {\"Imdb Average Prime Video\": groupbyMeanImdbPrimeVideo}\n",
    "summaryPrimeVideoImdbStats = pd.DataFrame(summaryPrimeVideoImdbStats)\n",
    "summaryPrimeVideoImdbStats.head()"
   ]
  },
  {
   "cell_type": "code",
   "execution_count": 62,
   "id": "5e1a13b0",
   "metadata": {},
   "outputs": [
    {
     "data": {
      "text/html": [
       "<div>\n",
       "<style scoped>\n",
       "    .dataframe tbody tr th:only-of-type {\n",
       "        vertical-align: middle;\n",
       "    }\n",
       "\n",
       "    .dataframe tbody tr th {\n",
       "        vertical-align: top;\n",
       "    }\n",
       "\n",
       "    .dataframe thead th {\n",
       "        text-align: right;\n",
       "    }\n",
       "</style>\n",
       "<table border=\"1\" class=\"dataframe\">\n",
       "  <thead>\n",
       "    <tr style=\"text-align: right;\">\n",
       "      <th></th>\n",
       "      <th>Imdb Average Prime Video</th>\n",
       "    </tr>\n",
       "    <tr>\n",
       "      <th>Prime Video</th>\n",
       "      <th></th>\n",
       "    </tr>\n",
       "  </thead>\n",
       "  <tbody>\n",
       "    <tr>\n",
       "      <th>1</th>\n",
       "      <td>6.471429</td>\n",
       "    </tr>\n",
       "  </tbody>\n",
       "</table>\n",
       "</div>"
      ],
      "text/plain": [
       "             Imdb Average Prime Video\n",
       "Prime Video                          \n",
       "1                            6.471429"
      ]
     },
     "execution_count": 62,
     "metadata": {},
     "output_type": "execute_result"
    }
   ],
   "source": [
    "summaryPrimeVideoImdbStats = summaryPrimeVideoImdbStats.drop([0], axis =0)\n",
    "summaryPrimeVideoImdbStats"
   ]
  },
  {
   "cell_type": "code",
   "execution_count": 63,
   "id": "9a25b0dc",
   "metadata": {},
   "outputs": [
    {
     "data": {
      "text/html": [
       "<div>\n",
       "<style scoped>\n",
       "    .dataframe tbody tr th:only-of-type {\n",
       "        vertical-align: middle;\n",
       "    }\n",
       "\n",
       "    .dataframe tbody tr th {\n",
       "        vertical-align: top;\n",
       "    }\n",
       "\n",
       "    .dataframe thead th {\n",
       "        text-align: right;\n",
       "    }\n",
       "</style>\n",
       "<table border=\"1\" class=\"dataframe\">\n",
       "  <thead>\n",
       "    <tr style=\"text-align: right;\">\n",
       "      <th></th>\n",
       "      <th>Rotten Tomatoes Average Prime Video</th>\n",
       "    </tr>\n",
       "    <tr>\n",
       "      <th>Prime Video</th>\n",
       "      <th></th>\n",
       "    </tr>\n",
       "  </thead>\n",
       "  <tbody>\n",
       "    <tr>\n",
       "      <th>0</th>\n",
       "      <td>68.031447</td>\n",
       "    </tr>\n",
       "    <tr>\n",
       "      <th>1</th>\n",
       "      <td>52.071429</td>\n",
       "    </tr>\n",
       "  </tbody>\n",
       "</table>\n",
       "</div>"
      ],
      "text/plain": [
       "             Rotten Tomatoes Average Prime Video\n",
       "Prime Video                                     \n",
       "0                                      68.031447\n",
       "1                                      52.071429"
      ]
     },
     "execution_count": 63,
     "metadata": {},
     "output_type": "execute_result"
    }
   ],
   "source": [
    "groupbyMeanRottenTomatoesPrimeVideo = df.groupby([\"Prime Video\"])[\"Rotten Tomatoes\"].mean()\n",
    "summaryPrimeVideoRottenTomatoesStats = {\"Rotten Tomatoes Average Prime Video\": groupbyMeanRottenTomatoesPrimeVideo}\n",
    "summaryPrimeVideoRottenTomatoesStats = pd.DataFrame(summaryPrimeVideoRottenTomatoesStats)\n",
    "summaryPrimeVideoRottenTomatoesStats.head()"
   ]
  },
  {
   "cell_type": "code",
   "execution_count": 64,
   "id": "5d37ec0c",
   "metadata": {},
   "outputs": [
    {
     "data": {
      "text/html": [
       "<div>\n",
       "<style scoped>\n",
       "    .dataframe tbody tr th:only-of-type {\n",
       "        vertical-align: middle;\n",
       "    }\n",
       "\n",
       "    .dataframe tbody tr th {\n",
       "        vertical-align: top;\n",
       "    }\n",
       "\n",
       "    .dataframe thead th {\n",
       "        text-align: right;\n",
       "    }\n",
       "</style>\n",
       "<table border=\"1\" class=\"dataframe\">\n",
       "  <thead>\n",
       "    <tr style=\"text-align: right;\">\n",
       "      <th></th>\n",
       "      <th>Rotten Tomatoes Average Prime Video</th>\n",
       "    </tr>\n",
       "    <tr>\n",
       "      <th>Prime Video</th>\n",
       "      <th></th>\n",
       "    </tr>\n",
       "  </thead>\n",
       "  <tbody>\n",
       "    <tr>\n",
       "      <th>1</th>\n",
       "      <td>52.071429</td>\n",
       "    </tr>\n",
       "  </tbody>\n",
       "</table>\n",
       "</div>"
      ],
      "text/plain": [
       "             Rotten Tomatoes Average Prime Video\n",
       "Prime Video                                     \n",
       "1                                      52.071429"
      ]
     },
     "execution_count": 64,
     "metadata": {},
     "output_type": "execute_result"
    }
   ],
   "source": [
    "summaryPrimeVideoRottenTomatoesStats = summaryPrimeVideoRottenTomatoesStats.drop([0], axis =0)\n",
    "summaryPrimeVideoRottenTomatoesStats"
   ]
  },
  {
   "cell_type": "code",
   "execution_count": 66,
   "id": "33452c10",
   "metadata": {},
   "outputs": [
    {
     "data": {
      "text/html": [
       "<div>\n",
       "<style scoped>\n",
       "    .dataframe tbody tr th:only-of-type {\n",
       "        vertical-align: middle;\n",
       "    }\n",
       "\n",
       "    .dataframe tbody tr th {\n",
       "        vertical-align: top;\n",
       "    }\n",
       "\n",
       "    .dataframe thead th {\n",
       "        text-align: right;\n",
       "    }\n",
       "</style>\n",
       "<table border=\"1\" class=\"dataframe\">\n",
       "  <thead>\n",
       "    <tr style=\"text-align: right;\">\n",
       "      <th></th>\n",
       "      <th>Metascore Average Disney+</th>\n",
       "    </tr>\n",
       "    <tr>\n",
       "      <th>Disney+</th>\n",
       "      <th></th>\n",
       "    </tr>\n",
       "  </thead>\n",
       "  <tbody>\n",
       "    <tr>\n",
       "      <th>0</th>\n",
       "      <td>60.413519</td>\n",
       "    </tr>\n",
       "    <tr>\n",
       "      <th>1</th>\n",
       "      <td>61.500000</td>\n",
       "    </tr>\n",
       "  </tbody>\n",
       "</table>\n",
       "</div>"
      ],
      "text/plain": [
       "         Metascore Average Disney+\n",
       "Disney+                           \n",
       "0                        60.413519\n",
       "1                        61.500000"
      ]
     },
     "execution_count": 66,
     "metadata": {},
     "output_type": "execute_result"
    }
   ],
   "source": [
    "groupbyMeanMetascoreDisney = df.groupby([\"Disney+\"])[\"Metascore\"].mean()\n",
    "summaryDisneyMetascoreStats = {\"Metascore Average Disney+\": groupbyMeanMetascoreDisney}\n",
    "summaryDisneyMetascoreStats = pd.DataFrame(summaryDisneyMetascoreStats)\n",
    "summaryDisneyMetascoreStats.head()"
   ]
  },
  {
   "cell_type": "code",
   "execution_count": 67,
   "id": "20b8540c",
   "metadata": {},
   "outputs": [
    {
     "data": {
      "text/html": [
       "<div>\n",
       "<style scoped>\n",
       "    .dataframe tbody tr th:only-of-type {\n",
       "        vertical-align: middle;\n",
       "    }\n",
       "\n",
       "    .dataframe tbody tr th {\n",
       "        vertical-align: top;\n",
       "    }\n",
       "\n",
       "    .dataframe thead th {\n",
       "        text-align: right;\n",
       "    }\n",
       "</style>\n",
       "<table border=\"1\" class=\"dataframe\">\n",
       "  <thead>\n",
       "    <tr style=\"text-align: right;\">\n",
       "      <th></th>\n",
       "      <th>Metascore Average Disney+</th>\n",
       "    </tr>\n",
       "    <tr>\n",
       "      <th>Disney+</th>\n",
       "      <th></th>\n",
       "    </tr>\n",
       "  </thead>\n",
       "  <tbody>\n",
       "    <tr>\n",
       "      <th>1</th>\n",
       "      <td>61.5</td>\n",
       "    </tr>\n",
       "  </tbody>\n",
       "</table>\n",
       "</div>"
      ],
      "text/plain": [
       "         Metascore Average Disney+\n",
       "Disney+                           \n",
       "1                             61.5"
      ]
     },
     "execution_count": 67,
     "metadata": {},
     "output_type": "execute_result"
    }
   ],
   "source": [
    "summaryDisneyMetascoreStats = summaryDisneyMetascoreStats.drop([0], axis =0)\n",
    "summaryDisneyMetascoreStats"
   ]
  },
  {
   "cell_type": "code",
   "execution_count": 68,
   "id": "daac9bdc",
   "metadata": {},
   "outputs": [
    {
     "data": {
      "text/html": [
       "<div>\n",
       "<style scoped>\n",
       "    .dataframe tbody tr th:only-of-type {\n",
       "        vertical-align: middle;\n",
       "    }\n",
       "\n",
       "    .dataframe tbody tr th {\n",
       "        vertical-align: top;\n",
       "    }\n",
       "\n",
       "    .dataframe thead th {\n",
       "        text-align: right;\n",
       "    }\n",
       "</style>\n",
       "<table border=\"1\" class=\"dataframe\">\n",
       "  <thead>\n",
       "    <tr style=\"text-align: right;\">\n",
       "      <th></th>\n",
       "      <th>Imdb Average Disney+</th>\n",
       "    </tr>\n",
       "    <tr>\n",
       "      <th>Disney+</th>\n",
       "      <th></th>\n",
       "    </tr>\n",
       "  </thead>\n",
       "  <tbody>\n",
       "    <tr>\n",
       "      <th>0</th>\n",
       "      <td>6.756262</td>\n",
       "    </tr>\n",
       "    <tr>\n",
       "      <th>1</th>\n",
       "      <td>6.550000</td>\n",
       "    </tr>\n",
       "  </tbody>\n",
       "</table>\n",
       "</div>"
      ],
      "text/plain": [
       "         Imdb Average Disney+\n",
       "Disney+                      \n",
       "0                    6.756262\n",
       "1                    6.550000"
      ]
     },
     "execution_count": 68,
     "metadata": {},
     "output_type": "execute_result"
    }
   ],
   "source": [
    "groupbyMeanImdbDisney = df.groupby([\"Disney+\"])[\"Imdb\"].mean()\n",
    "summaryDisneyImdbStats = {\"Imdb Average Disney+\": groupbyMeanImdbDisney}\n",
    "summaryDisneyImdbStats = pd.DataFrame(summaryDisneyImdbStats)\n",
    "summaryDisneyImdbStats.head()"
   ]
  },
  {
   "cell_type": "code",
   "execution_count": 69,
   "id": "4e8f8971",
   "metadata": {},
   "outputs": [
    {
     "data": {
      "text/html": [
       "<div>\n",
       "<style scoped>\n",
       "    .dataframe tbody tr th:only-of-type {\n",
       "        vertical-align: middle;\n",
       "    }\n",
       "\n",
       "    .dataframe tbody tr th {\n",
       "        vertical-align: top;\n",
       "    }\n",
       "\n",
       "    .dataframe thead th {\n",
       "        text-align: right;\n",
       "    }\n",
       "</style>\n",
       "<table border=\"1\" class=\"dataframe\">\n",
       "  <thead>\n",
       "    <tr style=\"text-align: right;\">\n",
       "      <th></th>\n",
       "      <th>Imdb Average Disney+</th>\n",
       "    </tr>\n",
       "    <tr>\n",
       "      <th>Disney+</th>\n",
       "      <th></th>\n",
       "    </tr>\n",
       "  </thead>\n",
       "  <tbody>\n",
       "    <tr>\n",
       "      <th>1</th>\n",
       "      <td>6.55</td>\n",
       "    </tr>\n",
       "  </tbody>\n",
       "</table>\n",
       "</div>"
      ],
      "text/plain": [
       "         Imdb Average Disney+\n",
       "Disney+                      \n",
       "1                        6.55"
      ]
     },
     "execution_count": 69,
     "metadata": {},
     "output_type": "execute_result"
    }
   ],
   "source": [
    "summaryDisneyImdbStats = summaryDisneyImdbStats.drop([0], axis =0)\n",
    "summaryDisneyImdbStats"
   ]
  },
  {
   "cell_type": "code",
   "execution_count": 70,
   "id": "d7b6e1cb",
   "metadata": {},
   "outputs": [
    {
     "data": {
      "text/html": [
       "<div>\n",
       "<style scoped>\n",
       "    .dataframe tbody tr th:only-of-type {\n",
       "        vertical-align: middle;\n",
       "    }\n",
       "\n",
       "    .dataframe tbody tr th {\n",
       "        vertical-align: top;\n",
       "    }\n",
       "\n",
       "    .dataframe thead th {\n",
       "        text-align: right;\n",
       "    }\n",
       "</style>\n",
       "<table border=\"1\" class=\"dataframe\">\n",
       "  <thead>\n",
       "    <tr style=\"text-align: right;\">\n",
       "      <th></th>\n",
       "      <th>Rotten Tomatoes Average Disney+</th>\n",
       "    </tr>\n",
       "    <tr>\n",
       "      <th>Disney+</th>\n",
       "      <th></th>\n",
       "    </tr>\n",
       "  </thead>\n",
       "  <tbody>\n",
       "    <tr>\n",
       "      <th>0</th>\n",
       "      <td>67.125249</td>\n",
       "    </tr>\n",
       "    <tr>\n",
       "      <th>1</th>\n",
       "      <td>72.500000</td>\n",
       "    </tr>\n",
       "  </tbody>\n",
       "</table>\n",
       "</div>"
      ],
      "text/plain": [
       "         Rotten Tomatoes Average Disney+\n",
       "Disney+                                 \n",
       "0                              67.125249\n",
       "1                              72.500000"
      ]
     },
     "execution_count": 70,
     "metadata": {},
     "output_type": "execute_result"
    }
   ],
   "source": [
    "groupbyMeanRottenTomatoesDisney = df.groupby([\"Disney+\"])[\"Rotten Tomatoes\"].mean()\n",
    "summaryDisneyRottenTomatoesStats = {\"Rotten Tomatoes Average Disney+\": groupbyMeanRottenTomatoesDisney}\n",
    "summaryDisneyRottenTomatoesStats = pd.DataFrame(summaryDisneyRottenTomatoesStats)\n",
    "summaryDisneyRottenTomatoesStats.head()"
   ]
  },
  {
   "cell_type": "code",
   "execution_count": 71,
   "id": "31922a6b",
   "metadata": {},
   "outputs": [
    {
     "data": {
      "text/html": [
       "<div>\n",
       "<style scoped>\n",
       "    .dataframe tbody tr th:only-of-type {\n",
       "        vertical-align: middle;\n",
       "    }\n",
       "\n",
       "    .dataframe tbody tr th {\n",
       "        vertical-align: top;\n",
       "    }\n",
       "\n",
       "    .dataframe thead th {\n",
       "        text-align: right;\n",
       "    }\n",
       "</style>\n",
       "<table border=\"1\" class=\"dataframe\">\n",
       "  <thead>\n",
       "    <tr style=\"text-align: right;\">\n",
       "      <th></th>\n",
       "      <th>Rotten Tomatoes Average Disney+</th>\n",
       "    </tr>\n",
       "    <tr>\n",
       "      <th>Disney+</th>\n",
       "      <th></th>\n",
       "    </tr>\n",
       "  </thead>\n",
       "  <tbody>\n",
       "    <tr>\n",
       "      <th>1</th>\n",
       "      <td>72.5</td>\n",
       "    </tr>\n",
       "  </tbody>\n",
       "</table>\n",
       "</div>"
      ],
      "text/plain": [
       "         Rotten Tomatoes Average Disney+\n",
       "Disney+                                 \n",
       "1                                   72.5"
      ]
     },
     "execution_count": 71,
     "metadata": {},
     "output_type": "execute_result"
    }
   ],
   "source": [
    "summaryDisneyRottenTomatoesStats = summaryDisneyRottenTomatoesStats.drop([0], axis =0)\n",
    "summaryDisneyRottenTomatoesStats"
   ]
  },
  {
   "cell_type": "code",
   "execution_count": 78,
   "id": "ad1775e8",
   "metadata": {},
   "outputs": [
    {
     "data": {
      "text/html": [
       "<div>\n",
       "<style scoped>\n",
       "    .dataframe tbody tr th:only-of-type {\n",
       "        vertical-align: middle;\n",
       "    }\n",
       "\n",
       "    .dataframe tbody tr th {\n",
       "        vertical-align: top;\n",
       "    }\n",
       "\n",
       "    .dataframe thead th {\n",
       "        text-align: right;\n",
       "    }\n",
       "</style>\n",
       "<table border=\"1\" class=\"dataframe\">\n",
       "  <thead>\n",
       "    <tr style=\"text-align: right;\">\n",
       "      <th></th>\n",
       "      <th>Metascore Average Netflix</th>\n",
       "      <th>Imdb Average Netflix</th>\n",
       "    </tr>\n",
       "    <tr>\n",
       "      <th>Netflix</th>\n",
       "      <th></th>\n",
       "      <th></th>\n",
       "    </tr>\n",
       "  </thead>\n",
       "  <tbody>\n",
       "    <tr>\n",
       "      <th>1</th>\n",
       "      <td>60.417822</td>\n",
       "      <td>6.755446</td>\n",
       "    </tr>\n",
       "  </tbody>\n",
       "</table>\n",
       "</div>"
      ],
      "text/plain": [
       "         Metascore Average Netflix  Imdb Average Netflix\n",
       "Netflix                                                 \n",
       "1                        60.417822              6.755446"
      ]
     },
     "execution_count": 78,
     "metadata": {},
     "output_type": "execute_result"
    }
   ],
   "source": [
    "mergeNetflixRatings = summaryNetflixMetascoreStats.merge(summaryNetflixImdbStats, left_on='Netflix', right_index = True)\n",
    "mergeNetflixRatings"
   ]
  },
  {
   "cell_type": "code",
   "execution_count": 79,
   "id": "2d297237",
   "metadata": {},
   "outputs": [
    {
     "data": {
      "text/html": [
       "<div>\n",
       "<style scoped>\n",
       "    .dataframe tbody tr th:only-of-type {\n",
       "        vertical-align: middle;\n",
       "    }\n",
       "\n",
       "    .dataframe tbody tr th {\n",
       "        vertical-align: top;\n",
       "    }\n",
       "\n",
       "    .dataframe thead th {\n",
       "        text-align: right;\n",
       "    }\n",
       "</style>\n",
       "<table border=\"1\" class=\"dataframe\">\n",
       "  <thead>\n",
       "    <tr style=\"text-align: right;\">\n",
       "      <th></th>\n",
       "      <th>Metascore Average Netflix</th>\n",
       "      <th>Imdb Average Netflix</th>\n",
       "      <th>Rotten Tomatoes Average Netflix</th>\n",
       "    </tr>\n",
       "    <tr>\n",
       "      <th>Netflix</th>\n",
       "      <th></th>\n",
       "      <th></th>\n",
       "      <th></th>\n",
       "    </tr>\n",
       "  </thead>\n",
       "  <tbody>\n",
       "    <tr>\n",
       "      <th>1</th>\n",
       "      <td>60.417822</td>\n",
       "      <td>6.755446</td>\n",
       "      <td>67.146535</td>\n",
       "    </tr>\n",
       "  </tbody>\n",
       "</table>\n",
       "</div>"
      ],
      "text/plain": [
       "         Metascore Average Netflix  Imdb Average Netflix  \\\n",
       "Netflix                                                    \n",
       "1                        60.417822              6.755446   \n",
       "\n",
       "         Rotten Tomatoes Average Netflix  \n",
       "Netflix                                   \n",
       "1                              67.146535  "
      ]
     },
     "execution_count": 79,
     "metadata": {},
     "output_type": "execute_result"
    }
   ],
   "source": [
    "mergeNetflixRatings = mergeNetflixRatings.merge(summaryNetflixRottenTomatoesStats, left_on='Netflix', right_index = True)\n",
    "mergeNetflixRatings"
   ]
  },
  {
   "cell_type": "code",
   "execution_count": 81,
   "id": "292304b6",
   "metadata": {},
   "outputs": [
    {
     "data": {
      "text/html": [
       "<div>\n",
       "<style scoped>\n",
       "    .dataframe tbody tr th:only-of-type {\n",
       "        vertical-align: middle;\n",
       "    }\n",
       "\n",
       "    .dataframe tbody tr th {\n",
       "        vertical-align: top;\n",
       "    }\n",
       "\n",
       "    .dataframe thead th {\n",
       "        text-align: right;\n",
       "    }\n",
       "</style>\n",
       "<table border=\"1\" class=\"dataframe\">\n",
       "  <thead>\n",
       "    <tr style=\"text-align: right;\">\n",
       "      <th></th>\n",
       "      <th>Metascore Average Hulu</th>\n",
       "      <th>Imdb Average Hulu</th>\n",
       "    </tr>\n",
       "    <tr>\n",
       "      <th>Hulu</th>\n",
       "      <th></th>\n",
       "      <th></th>\n",
       "    </tr>\n",
       "  </thead>\n",
       "  <tbody>\n",
       "    <tr>\n",
       "      <th>1</th>\n",
       "      <td>59.210526</td>\n",
       "      <td>6.8</td>\n",
       "    </tr>\n",
       "  </tbody>\n",
       "</table>\n",
       "</div>"
      ],
      "text/plain": [
       "      Metascore Average Hulu  Imdb Average Hulu\n",
       "Hulu                                           \n",
       "1                  59.210526                6.8"
      ]
     },
     "execution_count": 81,
     "metadata": {},
     "output_type": "execute_result"
    }
   ],
   "source": [
    "mergeHuluRatings = summaryHuluMetascoreStats.merge(summaryHuluImdbStats, left_on='Hulu', right_index = True)\n",
    "mergeHuluRatings "
   ]
  },
  {
   "cell_type": "code",
   "execution_count": 82,
   "id": "cb032b84",
   "metadata": {},
   "outputs": [
    {
     "data": {
      "text/html": [
       "<div>\n",
       "<style scoped>\n",
       "    .dataframe tbody tr th:only-of-type {\n",
       "        vertical-align: middle;\n",
       "    }\n",
       "\n",
       "    .dataframe tbody tr th {\n",
       "        vertical-align: top;\n",
       "    }\n",
       "\n",
       "    .dataframe thead th {\n",
       "        text-align: right;\n",
       "    }\n",
       "</style>\n",
       "<table border=\"1\" class=\"dataframe\">\n",
       "  <thead>\n",
       "    <tr style=\"text-align: right;\">\n",
       "      <th></th>\n",
       "      <th>Metascore Average Hulu</th>\n",
       "      <th>Imdb Average Hulu</th>\n",
       "      <th>Rotten Tomatoes Average Hulu</th>\n",
       "    </tr>\n",
       "    <tr>\n",
       "      <th>Hulu</th>\n",
       "      <th></th>\n",
       "      <th></th>\n",
       "      <th></th>\n",
       "    </tr>\n",
       "  </thead>\n",
       "  <tbody>\n",
       "    <tr>\n",
       "      <th>1</th>\n",
       "      <td>59.210526</td>\n",
       "      <td>6.8</td>\n",
       "      <td>59.157895</td>\n",
       "    </tr>\n",
       "  </tbody>\n",
       "</table>\n",
       "</div>"
      ],
      "text/plain": [
       "      Metascore Average Hulu  Imdb Average Hulu  Rotten Tomatoes Average Hulu\n",
       "Hulu                                                                         \n",
       "1                  59.210526                6.8                     59.157895"
      ]
     },
     "execution_count": 82,
     "metadata": {},
     "output_type": "execute_result"
    }
   ],
   "source": [
    "mergeHuluRatings = mergeHuluRatings.merge(summaryHuluRottenTomatoesStats, left_on='Hulu', right_index = True)\n",
    "mergeHuluRatings"
   ]
  },
  {
   "cell_type": "code",
   "execution_count": 85,
   "id": "73faa91e",
   "metadata": {},
   "outputs": [
    {
     "data": {
      "text/html": [
       "<div>\n",
       "<style scoped>\n",
       "    .dataframe tbody tr th:only-of-type {\n",
       "        vertical-align: middle;\n",
       "    }\n",
       "\n",
       "    .dataframe tbody tr th {\n",
       "        vertical-align: top;\n",
       "    }\n",
       "\n",
       "    .dataframe thead th {\n",
       "        text-align: right;\n",
       "    }\n",
       "</style>\n",
       "<table border=\"1\" class=\"dataframe\">\n",
       "  <thead>\n",
       "    <tr style=\"text-align: right;\">\n",
       "      <th></th>\n",
       "      <th>Metascore Average Prime Video</th>\n",
       "      <th>Imdb Average Prime Video</th>\n",
       "    </tr>\n",
       "    <tr>\n",
       "      <th>Prime Video</th>\n",
       "      <th></th>\n",
       "      <th></th>\n",
       "    </tr>\n",
       "  </thead>\n",
       "  <tbody>\n",
       "    <tr>\n",
       "      <th>1</th>\n",
       "      <td>49.392857</td>\n",
       "      <td>6.471429</td>\n",
       "    </tr>\n",
       "  </tbody>\n",
       "</table>\n",
       "</div>"
      ],
      "text/plain": [
       "             Metascore Average Prime Video  Imdb Average Prime Video\n",
       "Prime Video                                                         \n",
       "1                                49.392857                  6.471429"
      ]
     },
     "execution_count": 85,
     "metadata": {},
     "output_type": "execute_result"
    }
   ],
   "source": [
    "mergePrimeVideoRatings = summaryPrimeVideoMetascoreStats.merge(summaryPrimeVideoImdbStats, left_on='Prime Video', right_index = True)\n",
    "mergePrimeVideoRatings"
   ]
  },
  {
   "cell_type": "code",
   "execution_count": 86,
   "id": "b4949ba9",
   "metadata": {},
   "outputs": [
    {
     "data": {
      "text/html": [
       "<div>\n",
       "<style scoped>\n",
       "    .dataframe tbody tr th:only-of-type {\n",
       "        vertical-align: middle;\n",
       "    }\n",
       "\n",
       "    .dataframe tbody tr th {\n",
       "        vertical-align: top;\n",
       "    }\n",
       "\n",
       "    .dataframe thead th {\n",
       "        text-align: right;\n",
       "    }\n",
       "</style>\n",
       "<table border=\"1\" class=\"dataframe\">\n",
       "  <thead>\n",
       "    <tr style=\"text-align: right;\">\n",
       "      <th></th>\n",
       "      <th>Metascore Average Prime Video</th>\n",
       "      <th>Imdb Average Prime Video</th>\n",
       "      <th>Rotten Tomatoes Average Prime Video</th>\n",
       "    </tr>\n",
       "    <tr>\n",
       "      <th>Prime Video</th>\n",
       "      <th></th>\n",
       "      <th></th>\n",
       "      <th></th>\n",
       "    </tr>\n",
       "  </thead>\n",
       "  <tbody>\n",
       "    <tr>\n",
       "      <th>1</th>\n",
       "      <td>49.392857</td>\n",
       "      <td>6.471429</td>\n",
       "      <td>52.071429</td>\n",
       "    </tr>\n",
       "  </tbody>\n",
       "</table>\n",
       "</div>"
      ],
      "text/plain": [
       "             Metascore Average Prime Video  Imdb Average Prime Video  \\\n",
       "Prime Video                                                            \n",
       "1                                49.392857                  6.471429   \n",
       "\n",
       "             Rotten Tomatoes Average Prime Video  \n",
       "Prime Video                                       \n",
       "1                                      52.071429  "
      ]
     },
     "execution_count": 86,
     "metadata": {},
     "output_type": "execute_result"
    }
   ],
   "source": [
    "mergePrimeVideoRatings = mergePrimeVideoRatings.merge(summaryPrimeVideoRottenTomatoesStats, left_on='Prime Video', right_index = True)\n",
    "mergePrimeVideoRatings"
   ]
  },
  {
   "cell_type": "code",
   "execution_count": 88,
   "id": "4cc31291",
   "metadata": {},
   "outputs": [
    {
     "data": {
      "text/html": [
       "<div>\n",
       "<style scoped>\n",
       "    .dataframe tbody tr th:only-of-type {\n",
       "        vertical-align: middle;\n",
       "    }\n",
       "\n",
       "    .dataframe tbody tr th {\n",
       "        vertical-align: top;\n",
       "    }\n",
       "\n",
       "    .dataframe thead th {\n",
       "        text-align: right;\n",
       "    }\n",
       "</style>\n",
       "<table border=\"1\" class=\"dataframe\">\n",
       "  <thead>\n",
       "    <tr style=\"text-align: right;\">\n",
       "      <th></th>\n",
       "      <th>Metascore Average Disney+</th>\n",
       "      <th>Imdb Average Disney+</th>\n",
       "    </tr>\n",
       "    <tr>\n",
       "      <th>Disney+</th>\n",
       "      <th></th>\n",
       "      <th></th>\n",
       "    </tr>\n",
       "  </thead>\n",
       "  <tbody>\n",
       "    <tr>\n",
       "      <th>1</th>\n",
       "      <td>61.5</td>\n",
       "      <td>6.55</td>\n",
       "    </tr>\n",
       "  </tbody>\n",
       "</table>\n",
       "</div>"
      ],
      "text/plain": [
       "         Metascore Average Disney+  Imdb Average Disney+\n",
       "Disney+                                                 \n",
       "1                             61.5                  6.55"
      ]
     },
     "execution_count": 88,
     "metadata": {},
     "output_type": "execute_result"
    }
   ],
   "source": [
    "mergeDisneyRatings = summaryDisneyMetascoreStats.merge(summaryDisneyImdbStats, left_on='Disney+', right_index = True)\n",
    "mergeDisneyRatings"
   ]
  },
  {
   "cell_type": "code",
   "execution_count": 89,
   "id": "d3a00419",
   "metadata": {},
   "outputs": [
    {
     "data": {
      "text/html": [
       "<div>\n",
       "<style scoped>\n",
       "    .dataframe tbody tr th:only-of-type {\n",
       "        vertical-align: middle;\n",
       "    }\n",
       "\n",
       "    .dataframe tbody tr th {\n",
       "        vertical-align: top;\n",
       "    }\n",
       "\n",
       "    .dataframe thead th {\n",
       "        text-align: right;\n",
       "    }\n",
       "</style>\n",
       "<table border=\"1\" class=\"dataframe\">\n",
       "  <thead>\n",
       "    <tr style=\"text-align: right;\">\n",
       "      <th></th>\n",
       "      <th>Metascore Average Disney+</th>\n",
       "      <th>Imdb Average Disney+</th>\n",
       "      <th>Rotten Tomatoes Average Disney+</th>\n",
       "    </tr>\n",
       "    <tr>\n",
       "      <th>Disney+</th>\n",
       "      <th></th>\n",
       "      <th></th>\n",
       "      <th></th>\n",
       "    </tr>\n",
       "  </thead>\n",
       "  <tbody>\n",
       "    <tr>\n",
       "      <th>1</th>\n",
       "      <td>61.5</td>\n",
       "      <td>6.55</td>\n",
       "      <td>72.5</td>\n",
       "    </tr>\n",
       "  </tbody>\n",
       "</table>\n",
       "</div>"
      ],
      "text/plain": [
       "         Metascore Average Disney+  Imdb Average Disney+  \\\n",
       "Disney+                                                    \n",
       "1                             61.5                  6.55   \n",
       "\n",
       "         Rotten Tomatoes Average Disney+  \n",
       "Disney+                                   \n",
       "1                                   72.5  "
      ]
     },
     "execution_count": 89,
     "metadata": {},
     "output_type": "execute_result"
    }
   ],
   "source": [
    "mergeDisneyRatings = mergeDisneyRatings.merge(summaryDisneyRottenTomatoesStats, left_on='Disney+', right_index = True)\n",
    "mergeDisneyRatings"
   ]
  },
  {
   "cell_type": "code",
   "execution_count": 91,
   "id": "40fd3cd9",
   "metadata": {},
   "outputs": [
    {
     "data": {
      "text/html": [
       "<div>\n",
       "<style scoped>\n",
       "    .dataframe tbody tr th:only-of-type {\n",
       "        vertical-align: middle;\n",
       "    }\n",
       "\n",
       "    .dataframe tbody tr th {\n",
       "        vertical-align: top;\n",
       "    }\n",
       "\n",
       "    .dataframe thead th {\n",
       "        text-align: right;\n",
       "    }\n",
       "</style>\n",
       "<table border=\"1\" class=\"dataframe\">\n",
       "  <thead>\n",
       "    <tr style=\"text-align: right;\">\n",
       "      <th></th>\n",
       "      <th>Metascore Average Netflix</th>\n",
       "      <th>Imdb Average Netflix</th>\n",
       "      <th>Rotten Tomatoes Average Netflix</th>\n",
       "      <th>Metascore Average Hulu</th>\n",
       "      <th>Imdb Average Hulu</th>\n",
       "      <th>Rotten Tomatoes Average Hulu</th>\n",
       "    </tr>\n",
       "    <tr>\n",
       "      <th>Netflix</th>\n",
       "      <th></th>\n",
       "      <th></th>\n",
       "      <th></th>\n",
       "      <th></th>\n",
       "      <th></th>\n",
       "      <th></th>\n",
       "    </tr>\n",
       "  </thead>\n",
       "  <tbody>\n",
       "    <tr>\n",
       "      <th>1</th>\n",
       "      <td>60.417822</td>\n",
       "      <td>6.755446</td>\n",
       "      <td>67.146535</td>\n",
       "      <td>59.210526</td>\n",
       "      <td>6.8</td>\n",
       "      <td>59.157895</td>\n",
       "    </tr>\n",
       "  </tbody>\n",
       "</table>\n",
       "</div>"
      ],
      "text/plain": [
       "         Metascore Average Netflix  Imdb Average Netflix  \\\n",
       "Netflix                                                    \n",
       "1                        60.417822              6.755446   \n",
       "\n",
       "         Rotten Tomatoes Average Netflix  Metascore Average Hulu  \\\n",
       "Netflix                                                            \n",
       "1                              67.146535               59.210526   \n",
       "\n",
       "         Imdb Average Hulu  Rotten Tomatoes Average Hulu  \n",
       "Netflix                                                   \n",
       "1                      6.8                     59.157895  "
      ]
     },
     "execution_count": 91,
     "metadata": {},
     "output_type": "execute_result"
    }
   ],
   "source": [
    "mergeNHPDRatings = mergeNetflixRatings.merge(mergeHuluRatings, left_on='Netflix', right_index = True)\n",
    "mergeNHPDRatings"
   ]
  },
  {
   "cell_type": "code",
   "execution_count": 92,
   "id": "92f509bc",
   "metadata": {},
   "outputs": [
    {
     "data": {
      "text/html": [
       "<div>\n",
       "<style scoped>\n",
       "    .dataframe tbody tr th:only-of-type {\n",
       "        vertical-align: middle;\n",
       "    }\n",
       "\n",
       "    .dataframe tbody tr th {\n",
       "        vertical-align: top;\n",
       "    }\n",
       "\n",
       "    .dataframe thead th {\n",
       "        text-align: right;\n",
       "    }\n",
       "</style>\n",
       "<table border=\"1\" class=\"dataframe\">\n",
       "  <thead>\n",
       "    <tr style=\"text-align: right;\">\n",
       "      <th></th>\n",
       "      <th>Metascore Average Netflix</th>\n",
       "      <th>Imdb Average Netflix</th>\n",
       "      <th>Rotten Tomatoes Average Netflix</th>\n",
       "      <th>Metascore Average Hulu</th>\n",
       "      <th>Imdb Average Hulu</th>\n",
       "      <th>Rotten Tomatoes Average Hulu</th>\n",
       "      <th>Metascore Average Prime Video</th>\n",
       "      <th>Imdb Average Prime Video</th>\n",
       "      <th>Rotten Tomatoes Average Prime Video</th>\n",
       "    </tr>\n",
       "    <tr>\n",
       "      <th>Netflix</th>\n",
       "      <th></th>\n",
       "      <th></th>\n",
       "      <th></th>\n",
       "      <th></th>\n",
       "      <th></th>\n",
       "      <th></th>\n",
       "      <th></th>\n",
       "      <th></th>\n",
       "      <th></th>\n",
       "    </tr>\n",
       "  </thead>\n",
       "  <tbody>\n",
       "    <tr>\n",
       "      <th>1</th>\n",
       "      <td>60.417822</td>\n",
       "      <td>6.755446</td>\n",
       "      <td>67.146535</td>\n",
       "      <td>59.210526</td>\n",
       "      <td>6.8</td>\n",
       "      <td>59.157895</td>\n",
       "      <td>49.392857</td>\n",
       "      <td>6.471429</td>\n",
       "      <td>52.071429</td>\n",
       "    </tr>\n",
       "  </tbody>\n",
       "</table>\n",
       "</div>"
      ],
      "text/plain": [
       "         Metascore Average Netflix  Imdb Average Netflix  \\\n",
       "Netflix                                                    \n",
       "1                        60.417822              6.755446   \n",
       "\n",
       "         Rotten Tomatoes Average Netflix  Metascore Average Hulu  \\\n",
       "Netflix                                                            \n",
       "1                              67.146535               59.210526   \n",
       "\n",
       "         Imdb Average Hulu  Rotten Tomatoes Average Hulu  \\\n",
       "Netflix                                                    \n",
       "1                      6.8                     59.157895   \n",
       "\n",
       "         Metascore Average Prime Video  Imdb Average Prime Video  \\\n",
       "Netflix                                                            \n",
       "1                            49.392857                  6.471429   \n",
       "\n",
       "         Rotten Tomatoes Average Prime Video  \n",
       "Netflix                                       \n",
       "1                                  52.071429  "
      ]
     },
     "execution_count": 92,
     "metadata": {},
     "output_type": "execute_result"
    }
   ],
   "source": [
    "mergeNHPDRatings = mergeNHPDRatings.merge(mergePrimeVideoRatings, left_on='Netflix', right_index = True)\n",
    "mergeNHPDRatings"
   ]
  },
  {
   "cell_type": "code",
   "execution_count": 93,
   "id": "af1cf0ef",
   "metadata": {},
   "outputs": [
    {
     "data": {
      "text/html": [
       "<div>\n",
       "<style scoped>\n",
       "    .dataframe tbody tr th:only-of-type {\n",
       "        vertical-align: middle;\n",
       "    }\n",
       "\n",
       "    .dataframe tbody tr th {\n",
       "        vertical-align: top;\n",
       "    }\n",
       "\n",
       "    .dataframe thead th {\n",
       "        text-align: right;\n",
       "    }\n",
       "</style>\n",
       "<table border=\"1\" class=\"dataframe\">\n",
       "  <thead>\n",
       "    <tr style=\"text-align: right;\">\n",
       "      <th></th>\n",
       "      <th>Metascore Average Netflix</th>\n",
       "      <th>Imdb Average Netflix</th>\n",
       "      <th>Rotten Tomatoes Average Netflix</th>\n",
       "      <th>Metascore Average Hulu</th>\n",
       "      <th>Imdb Average Hulu</th>\n",
       "      <th>Rotten Tomatoes Average Hulu</th>\n",
       "      <th>Metascore Average Prime Video</th>\n",
       "      <th>Imdb Average Prime Video</th>\n",
       "      <th>Rotten Tomatoes Average Prime Video</th>\n",
       "      <th>Metascore Average Disney+</th>\n",
       "      <th>Imdb Average Disney+</th>\n",
       "      <th>Rotten Tomatoes Average Disney+</th>\n",
       "    </tr>\n",
       "    <tr>\n",
       "      <th>Netflix</th>\n",
       "      <th></th>\n",
       "      <th></th>\n",
       "      <th></th>\n",
       "      <th></th>\n",
       "      <th></th>\n",
       "      <th></th>\n",
       "      <th></th>\n",
       "      <th></th>\n",
       "      <th></th>\n",
       "      <th></th>\n",
       "      <th></th>\n",
       "      <th></th>\n",
       "    </tr>\n",
       "  </thead>\n",
       "  <tbody>\n",
       "    <tr>\n",
       "      <th>1</th>\n",
       "      <td>60.417822</td>\n",
       "      <td>6.755446</td>\n",
       "      <td>67.146535</td>\n",
       "      <td>59.210526</td>\n",
       "      <td>6.8</td>\n",
       "      <td>59.157895</td>\n",
       "      <td>49.392857</td>\n",
       "      <td>6.471429</td>\n",
       "      <td>52.071429</td>\n",
       "      <td>61.5</td>\n",
       "      <td>6.55</td>\n",
       "      <td>72.5</td>\n",
       "    </tr>\n",
       "  </tbody>\n",
       "</table>\n",
       "</div>"
      ],
      "text/plain": [
       "         Metascore Average Netflix  Imdb Average Netflix  \\\n",
       "Netflix                                                    \n",
       "1                        60.417822              6.755446   \n",
       "\n",
       "         Rotten Tomatoes Average Netflix  Metascore Average Hulu  \\\n",
       "Netflix                                                            \n",
       "1                              67.146535               59.210526   \n",
       "\n",
       "         Imdb Average Hulu  Rotten Tomatoes Average Hulu  \\\n",
       "Netflix                                                    \n",
       "1                      6.8                     59.157895   \n",
       "\n",
       "         Metascore Average Prime Video  Imdb Average Prime Video  \\\n",
       "Netflix                                                            \n",
       "1                            49.392857                  6.471429   \n",
       "\n",
       "         Rotten Tomatoes Average Prime Video  Metascore Average Disney+  \\\n",
       "Netflix                                                                   \n",
       "1                                  52.071429                       61.5   \n",
       "\n",
       "         Imdb Average Disney+  Rotten Tomatoes Average Disney+  \n",
       "Netflix                                                         \n",
       "1                        6.55                             72.5  "
      ]
     },
     "execution_count": 93,
     "metadata": {},
     "output_type": "execute_result"
    }
   ],
   "source": [
    "mergeNHPDRatings = mergeNHPDRatings.merge(mergeDisneyRatings, left_on='Netflix', right_index = True)\n",
    "mergeNHPDRatings"
   ]
  },
  {
   "cell_type": "code",
   "execution_count": null,
   "id": "4786d0db",
   "metadata": {},
   "outputs": [],
   "source": []
  }
 ],
 "metadata": {
  "kernelspec": {
   "display_name": "Python 3 (ipykernel)",
   "language": "python",
   "name": "python3"
  },
  "language_info": {
   "codemirror_mode": {
    "name": "ipython",
    "version": 3
   },
   "file_extension": ".py",
   "mimetype": "text/x-python",
   "name": "python",
   "nbconvert_exporter": "python",
   "pygments_lexer": "ipython3",
   "version": "3.9.12"
  }
 },
 "nbformat": 4,
 "nbformat_minor": 5
}
