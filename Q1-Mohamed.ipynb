{
 "cells": [
  {
   "cell_type": "markdown",
   "id": "f35af860",
   "metadata": {},
   "source": []
  },
  {
   "cell_type": "code",
   "execution_count": 24,
   "id": "a9fcc1e9",
   "metadata": {},
   "outputs": [],
   "source": [
    "import pandas as pd\n",
    "import numpy as np\n",
    "import matplotlib.pyplot as plt"
   ]
  },
  {
   "cell_type": "code",
   "execution_count": 25,
   "id": "c7aa5548",
   "metadata": {},
   "outputs": [
    {
     "data": {
      "text/html": [
       "<div>\n",
       "<style scoped>\n",
       "    .dataframe tbody tr th:only-of-type {\n",
       "        vertical-align: middle;\n",
       "    }\n",
       "\n",
       "    .dataframe tbody tr th {\n",
       "        vertical-align: top;\n",
       "    }\n",
       "\n",
       "    .dataframe thead th {\n",
       "        text-align: right;\n",
       "    }\n",
       "</style>\n",
       "<table border=\"1\" class=\"dataframe\">\n",
       "  <thead>\n",
       "    <tr style=\"text-align: right;\">\n",
       "      <th></th>\n",
       "      <th>index</th>\n",
       "      <th>Unnamed: 0</th>\n",
       "      <th>ID</th>\n",
       "      <th>Title</th>\n",
       "      <th>Year</th>\n",
       "      <th>Age</th>\n",
       "      <th>Netflix</th>\n",
       "      <th>Hulu</th>\n",
       "      <th>Prime Video</th>\n",
       "      <th>Disney+</th>\n",
       "      <th>...</th>\n",
       "      <th>Rating</th>\n",
       "      <th>Genre</th>\n",
       "      <th>Metascore</th>\n",
       "      <th>Imdb</th>\n",
       "      <th>Rotten Tomatoes</th>\n",
       "      <th>Country</th>\n",
       "      <th>Language</th>\n",
       "      <th>Runtime</th>\n",
       "      <th>Overall</th>\n",
       "      <th>Genre Type</th>\n",
       "    </tr>\n",
       "  </thead>\n",
       "  <tbody>\n",
       "    <tr>\n",
       "      <th>0</th>\n",
       "      <td>0</td>\n",
       "      <td>0</td>\n",
       "      <td>1</td>\n",
       "      <td>The Irishman</td>\n",
       "      <td>2019</td>\n",
       "      <td>18+</td>\n",
       "      <td>1</td>\n",
       "      <td>0</td>\n",
       "      <td>0</td>\n",
       "      <td>0</td>\n",
       "      <td>...</td>\n",
       "      <td>R</td>\n",
       "      <td>Biography, Crime, Drama</td>\n",
       "      <td>94.0</td>\n",
       "      <td>78.0</td>\n",
       "      <td>95.0</td>\n",
       "      <td>United States</td>\n",
       "      <td>English, Italian, Latin, Spanish, German</td>\n",
       "      <td>209.0</td>\n",
       "      <td>89.0</td>\n",
       "      <td>Biography</td>\n",
       "    </tr>\n",
       "    <tr>\n",
       "      <th>1</th>\n",
       "      <td>0</td>\n",
       "      <td>0</td>\n",
       "      <td>1</td>\n",
       "      <td>The Irishman</td>\n",
       "      <td>2019</td>\n",
       "      <td>18+</td>\n",
       "      <td>1</td>\n",
       "      <td>0</td>\n",
       "      <td>0</td>\n",
       "      <td>0</td>\n",
       "      <td>...</td>\n",
       "      <td>R</td>\n",
       "      <td>Biography, Crime, Drama</td>\n",
       "      <td>94.0</td>\n",
       "      <td>78.0</td>\n",
       "      <td>95.0</td>\n",
       "      <td>United States</td>\n",
       "      <td>English, Italian, Latin, Spanish, German</td>\n",
       "      <td>209.0</td>\n",
       "      <td>89.0</td>\n",
       "      <td>Crime</td>\n",
       "    </tr>\n",
       "    <tr>\n",
       "      <th>2</th>\n",
       "      <td>0</td>\n",
       "      <td>0</td>\n",
       "      <td>1</td>\n",
       "      <td>The Irishman</td>\n",
       "      <td>2019</td>\n",
       "      <td>18+</td>\n",
       "      <td>1</td>\n",
       "      <td>0</td>\n",
       "      <td>0</td>\n",
       "      <td>0</td>\n",
       "      <td>...</td>\n",
       "      <td>R</td>\n",
       "      <td>Biography, Crime, Drama</td>\n",
       "      <td>94.0</td>\n",
       "      <td>78.0</td>\n",
       "      <td>95.0</td>\n",
       "      <td>United States</td>\n",
       "      <td>English, Italian, Latin, Spanish, German</td>\n",
       "      <td>209.0</td>\n",
       "      <td>89.0</td>\n",
       "      <td>Drama</td>\n",
       "    </tr>\n",
       "    <tr>\n",
       "      <th>3</th>\n",
       "      <td>1</td>\n",
       "      <td>1</td>\n",
       "      <td>2</td>\n",
       "      <td>Dangal</td>\n",
       "      <td>2016</td>\n",
       "      <td>7+</td>\n",
       "      <td>1</td>\n",
       "      <td>0</td>\n",
       "      <td>0</td>\n",
       "      <td>0</td>\n",
       "      <td>...</td>\n",
       "      <td>Not Rated</td>\n",
       "      <td>Action, Biography, Drama</td>\n",
       "      <td>NaN</td>\n",
       "      <td>83.0</td>\n",
       "      <td>88.0</td>\n",
       "      <td>India, United States</td>\n",
       "      <td>Hindi, English</td>\n",
       "      <td>161.0</td>\n",
       "      <td>85.5</td>\n",
       "      <td>Action</td>\n",
       "    </tr>\n",
       "    <tr>\n",
       "      <th>4</th>\n",
       "      <td>1</td>\n",
       "      <td>1</td>\n",
       "      <td>2</td>\n",
       "      <td>Dangal</td>\n",
       "      <td>2016</td>\n",
       "      <td>7+</td>\n",
       "      <td>1</td>\n",
       "      <td>0</td>\n",
       "      <td>0</td>\n",
       "      <td>0</td>\n",
       "      <td>...</td>\n",
       "      <td>Not Rated</td>\n",
       "      <td>Action, Biography, Drama</td>\n",
       "      <td>NaN</td>\n",
       "      <td>83.0</td>\n",
       "      <td>88.0</td>\n",
       "      <td>India, United States</td>\n",
       "      <td>Hindi, English</td>\n",
       "      <td>161.0</td>\n",
       "      <td>85.5</td>\n",
       "      <td>Biography</td>\n",
       "    </tr>\n",
       "  </tbody>\n",
       "</table>\n",
       "<p>5 rows × 21 columns</p>\n",
       "</div>"
      ],
      "text/plain": [
       "   index  Unnamed: 0  ID         Title  Year  Age  Netflix  Hulu  Prime Video  \\\n",
       "0      0           0   1  The Irishman  2019  18+        1     0            0   \n",
       "1      0           0   1  The Irishman  2019  18+        1     0            0   \n",
       "2      0           0   1  The Irishman  2019  18+        1     0            0   \n",
       "3      1           1   2        Dangal  2016   7+        1     0            0   \n",
       "4      1           1   2        Dangal  2016   7+        1     0            0   \n",
       "\n",
       "   Disney+  ...     Rating                     Genre Metascore  Imdb  \\\n",
       "0        0  ...          R   Biography, Crime, Drama      94.0  78.0   \n",
       "1        0  ...          R   Biography, Crime, Drama      94.0  78.0   \n",
       "2        0  ...          R   Biography, Crime, Drama      94.0  78.0   \n",
       "3        0  ...  Not Rated  Action, Biography, Drama       NaN  83.0   \n",
       "4        0  ...  Not Rated  Action, Biography, Drama       NaN  83.0   \n",
       "\n",
       "   Rotten Tomatoes               Country  \\\n",
       "0             95.0         United States   \n",
       "1             95.0         United States   \n",
       "2             95.0         United States   \n",
       "3             88.0  India, United States   \n",
       "4             88.0  India, United States   \n",
       "\n",
       "                                   Language Runtime  Overall  Genre Type  \n",
       "0  English, Italian, Latin, Spanish, German   209.0     89.0   Biography  \n",
       "1  English, Italian, Latin, Spanish, German   209.0     89.0       Crime  \n",
       "2  English, Italian, Latin, Spanish, German   209.0     89.0       Drama  \n",
       "3                            Hindi, English   161.0     85.5      Action  \n",
       "4                            Hindi, English   161.0     85.5   Biography  \n",
       "\n",
       "[5 rows x 21 columns]"
      ]
     },
     "execution_count": 25,
     "metadata": {},
     "output_type": "execute_result"
    }
   ],
   "source": [
    "reader=pd.read_csv(\"df_to_split_gen.csv\")\n",
    "reader.head()"
   ]
  },
  {
   "cell_type": "code",
   "execution_count": 29,
   "id": "365f0198",
   "metadata": {},
   "outputs": [
    {
     "data": {
      "text/plain": [
       "1593"
      ]
     },
     "execution_count": 29,
     "metadata": {},
     "output_type": "execute_result"
    }
   ],
   "source": [
    "#find the number of movies in Netflix\n",
    "netflix_count=len(df_to_split_gen.loc[reader[\"Netflix\"]==1,:][\"Title\"].unique())\n",
    "netflix_count"
   ]
  },
  {
   "cell_type": "code",
   "execution_count": 30,
   "id": "e0003304",
   "metadata": {},
   "outputs": [
    {
     "data": {
      "text/plain": [
       "817"
      ]
     },
     "execution_count": 30,
     "metadata": {},
     "output_type": "execute_result"
    }
   ],
   "source": [
    "#find the number of movies in Hulu\n",
    "Hulu_count=len(df_to_split_gen.loc[reader[\"Hulu\"]==1,:][\"Title\"].unique())\n",
    "Hulu_count"
   ]
  },
  {
   "cell_type": "code",
   "execution_count": 31,
   "id": "e923b23f",
   "metadata": {},
   "outputs": [
    {
     "data": {
      "text/plain": [
       "1703"
      ]
     },
     "execution_count": 31,
     "metadata": {},
     "output_type": "execute_result"
    }
   ],
   "source": [
    "#find the number of movies Prime Video\n",
    "Prime_Video_count=len(df_to_split_gen.loc[reader[\"Prime Video\"]==1,:][\"Title\"].unique())\n",
    "Prime_Video_count"
   ]
  },
  {
   "cell_type": "code",
   "execution_count": 32,
   "id": "be345410",
   "metadata": {},
   "outputs": [
    {
     "data": {
      "text/plain": [
       "440"
      ]
     },
     "execution_count": 32,
     "metadata": {},
     "output_type": "execute_result"
    }
   ],
   "source": [
    "#find the number of movies Disney+\n",
    "Disney_count=len(df_to_split_gen.loc[reader[\"Disney+\"]==1,:][\"Title\"].unique())\n",
    "Disney_count"
   ]
  },
  {
   "cell_type": "code",
   "execution_count": 33,
   "id": "0774dd7d",
   "metadata": {},
   "outputs": [
    {
     "data": {
      "image/png": "[encoded data removed]",
      "text/plain": [
       "<Figure size 432x288 with 1 Axes>"
      ]
     },
     "metadata": {
      "needs_background": "light"
     },
     "output_type": "display_data"
    }
   ],
   "source": [
    "# Bar chart showing the number of movies on each platform\n",
    "x_axis=[\"Netflix\",\"Hulu\",\"Prime Video\",\"Disney+\"]\n",
    "y_axis=[netflix_count,Hulu_count,Prime_Video_count,Disney_count]\n",
    "plot=plt.bar(x_axis,y_axis,color=\"red\",alpha=0.5,align=\"center\")\n",
    "plt.title(\"Numer of shows on each platform\")\n",
    "plt.xlabel(\"Platform\")\n",
    "plt.ylabel(\"Number of shows\")\n",
    "i = 0\n",
    "for p in plot:\n",
    "    width = p.get_width()\n",
    "    height = p.get_height()\n",
    "    x, y = p.get_xy()\n",
    "    plt.text(x+width/2,\n",
    "             y+height*1.01,\n",
    "             y_axis[i],\n",
    "             ha='center',\n",
    "             weight='normal')\n",
    "    i+=1\n",
    "plt.show()"
   ]
  },
  {
   "cell_type": "code",
   "execution_count": 34,
   "id": "91c69408",
   "metadata": {},
   "outputs": [],
   "source": [
    "#Calculate the percentage of shows a platform has from the total number in OMDB list\n",
    "Netflix_shows_percent=(netflix_count/Total_Shows)*100\n",
    "Hulu_shows_percent=(Hulu_count/Total_Shows)*100\n",
    "Prime_shows_percent=(Prime_Video_count/Total_Shows)*100\n",
    "Disney_shows_percent=(Disney_count/Total_Shows)*100"
   ]
  },
  {
   "cell_type": "code",
   "execution_count": 35,
   "id": "1fd8ef54",
   "metadata": {},
   "outputs": [
    {
     "data": {
      "image/png": "[encoded data removed]",
      "text/plain": [
       "<Figure size 432x288 with 1 Axes>"
      ]
     },
     "metadata": {
      "needs_background": "light"
     },
     "output_type": "display_data"
    }
   ],
   "source": [
    "#Bar chart for the percentages\n",
    "x_axis=[\"Netflix\",\"Hulu\",\"Prime Video\",\"Disney+\"]\n",
    "y_axis=[Netflix_shows_percent,Hulu_shows_percent,Prime_shows_percent,Disney_shows_percent]\n",
    "plt.bar(x_axis,y_axis,color=\"red\",alpha=0.5,align=\"center\")\n",
    "chart=plt.bar(x_axis,y_axis,color=\"red\",alpha=0.5,align=\"center\")\n",
    "plt.title(\"Percentage of number of show\")\n",
    "plt.xlabel(\"Platform\")\n",
    "plt.ylabel(\"Percent (%)\")\n",
    "plt.ylim(0,100)\n",
    "\n",
    "i = 0\n",
    "for p in chart:\n",
    "    width = p.get_width()\n",
    "    height = p.get_height()\n",
    "    x, y = p.get_xy()\n",
    "    plt.text(x+width/2,\n",
    "             y+height*1.01,\n",
    "             f\"{round(y_axis[i],2)}%\",\n",
    "             ha='center',\n",
    "             weight='normal')\n",
    "    i+=1\n",
    "plt.show()"
   ]
  },
  {
   "cell_type": "code",
   "execution_count": 36,
   "id": "626d998a",
   "metadata": {},
   "outputs": [
    {
     "data": {
      "text/plain": [
       "([<matplotlib.patches.Wedge at 0xdbce369dc0>,\n",
       "  <matplotlib.patches.Wedge at 0xdbce377790>],\n",
       " [Text(-1.2187485078017741, 0.27776262299119503, 'Netflix'),\n",
       "  Text(1.072498698308206, -0.2444310580249645, 'Total Movies')],\n",
       " [Text(-0.7312491046810644, 0.16665757379471702, '15.1%'),\n",
       "  Text(0.5849992899862942, -0.13332603164998064, '84.9%')])"
      ]
     },
     "execution_count": 36,
     "metadata": {},
     "output_type": "execute_result"
    },
    {
     "data": {
      "image/png": "[encoded data removed]",
      "text/plain": [
       "<Figure size 432x288 with 1 Axes>"
      ]
     },
     "metadata": {},
     "output_type": "display_data"
    }
   ],
   "source": [
    "#show Netflix share of OMDB list\n",
    "sizes=[netflix_count,Total_Shows-netflix_count]\n",
    "labels=[\"Netflix\",\"Total Movies\"]\n",
    "colors=[\"Red\",\"Yellow\"]\n",
    "explode=(0.15,0)\n",
    "plt.pie(sizes, explode=explode, labels=labels, colors=colors,\n",
    "        autopct=\"%1.1f%%\", shadow=True, startangle=140)"
   ]
  },
  {
   "cell_type": "code",
   "execution_count": 37,
   "id": "666e7143",
   "metadata": {},
   "outputs": [
    {
     "data": {
      "text/plain": [
       "([<matplotlib.patches.Wedge at 0xdbce3bf430>,\n",
       "  <matplotlib.patches.Wedge at 0xdbce3bfdc0>],\n",
       " [Text(-1.1228231574633836, 0.5493342853526967, 'Hulu'),\n",
       "  Text(0.9880843672526518, -0.48341419423815735, 'Total Movies')],\n",
       " [Text(-0.6736938944780301, 0.32960057121161795, '7.7%'),\n",
       "  Text(0.5389551094105373, -0.2636804695844494, '92.3%')])"
      ]
     },
     "execution_count": 37,
     "metadata": {},
     "output_type": "execute_result"
    },
    {
     "data": {
      "image/png": "[encoded data removed]",
      "text/plain": [
       "<Figure size 432x288 with 1 Axes>"
      ]
     },
     "metadata": {},
     "output_type": "display_data"
    }
   ],
   "source": [
    "#show Hulu share of OMDB list\n",
    "sizes=[Hulu_count,Total_Shows-Hulu_count]\n",
    "labels=[\"Hulu\",\"Total Movies\"]\n",
    "colors=[\"Red\",\"Yellow\"]\n",
    "explode=(0.15,0)\n",
    "plt.pie(sizes, explode=explode, labels=labels, colors=colors,\n",
    "        autopct=\"%1.1f%%\", shadow=True, startangle=140)"
   ]
  },
  {
   "cell_type": "code",
   "execution_count": 38,
   "id": "9c6442d9",
   "metadata": {},
   "outputs": [
    {
     "data": {
      "text/plain": [
       "([<matplotlib.patches.Wedge at 0xdbce40aa90>,\n",
       "  <matplotlib.patches.Wedge at 0xdbd2b4d460>],\n",
       " [Text(-1.2271863312408078, 0.2377261206004229, 'Prime Video'),\n",
       "  Text(1.079923961698598, -0.20919903668326217, 'Total Movies')],\n",
       " [Text(-0.7363117987444846, 0.14263567236025373, '16.1%'),\n",
       "  Text(0.5890494336537807, -0.11410856546359753, '83.9%')])"
      ]
     },
     "execution_count": 38,
     "metadata": {},
     "output_type": "execute_result"
    },
    {
     "data": {
      "image/png": "[encoded data removed]",
      "text/plain": [
       "<Figure size 432x288 with 1 Axes>"
      ]
     },
     "metadata": {},
     "output_type": "display_data"
    }
   ],
   "source": [
    "#show Prime Video share of OMDB list\n",
    "sizes=[Prime_Video_count,Total_Shows-Prime_Video_count]\n",
    "labels=[\"Prime Video\",\"Total Movies\"]\n",
    "colors=[\"Red\",\"Yellow\"]\n",
    "explode=(0.15,0)\n",
    "plt.pie(sizes, explode=explode, labels=labels, colors=colors,\n",
    "        autopct=\"%1.1f%%\", shadow=True, startangle=140)"
   ]
  },
  {
   "cell_type": "code",
   "execution_count": 39,
   "id": "bdaf78c3",
   "metadata": {},
   "outputs": [
    {
     "data": {
      "text/plain": [
       "([<matplotlib.patches.Wedge at 0xdbd2b940a0>,\n",
       "  <matplotlib.patches.Wedge at 0xdbd2b94a30>],\n",
       " [Text(-1.0542642890412337, 0.6715852952919548, 'Disney+'),\n",
       "  Text(0.9277526089393783, -0.5909950055678789, 'Total Movies')],\n",
       " [Text(-0.6325585734247402, 0.4029511771751728, '4.2%'),\n",
       "  Text(0.5060468776032973, -0.3223609121279339, '95.8%')])"
      ]
     },
     "execution_count": 39,
     "metadata": {},
     "output_type": "execute_result"
    },
    {
     "data": {
      "image/png": "[encoded data removed]",
      "text/plain": [
       "<Figure size 432x288 with 1 Axes>"
      ]
     },
     "metadata": {},
     "output_type": "display_data"
    }
   ],
   "source": [
    "#show Disney share of OMDB list\n",
    "sizes=[Disney_count,Total_Shows-Disney_count]\n",
    "labels=[\"Disney+\",\"Total Movies\"]\n",
    "colors=[\"Red\",\"Yellow\"]\n",
    "explode=(0.15,0)\n",
    "plt.pie(sizes, explode=explode, labels=labels, colors=colors,\n",
    "        autopct=\"%1.1f%%\", shadow=True, startangle=140)"
   ]
  },
  {
   "cell_type": "code",
   "execution_count": null,
   "id": "6ebe68fa",
   "metadata": {},
   "outputs": [],
   "source": []
  }
 ],
 "metadata": {
  "kernelspec": {
   "display_name": "Python 3 (ipykernel)",
   "language": "python",
   "name": "python3"
  },
  "language_info": {
   "codemirror_mode": {
    "name": "ipython",
    "version": 3
   },
   "file_extension": ".py",
   "mimetype": "text/x-python",
   "name": "python",
   "nbconvert_exporter": "python",
   "pygments_lexer": "ipython3",
   "version": "3.9.12"
  }
 },
 "nbformat": 4,
 "nbformat_minor": 5
}
